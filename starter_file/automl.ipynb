{
 "cells": [
  {
   "cell_type": "markdown",
   "metadata": {},
   "source": [
    "# Automated ML\n",
    "\n",
    "TODO: Import Dependencies. In the cell below, import all the dependencies that you will need to complete the project."
   ]
  },
  {
   "cell_type": "code",
   "execution_count": 1,
   "metadata": {
    "collapsed": false,
    "gather": {
     "logged": 1704009743358
    },
    "jupyter": {
     "outputs_hidden": false,
     "source_hidden": false
    },
    "nteract": {
     "transient": {
      "deleting": false
     }
    }
   },
   "outputs": [],
   "source": [
    "import json\n",
    "import urllib.request\n",
    "import json\n",
    "import os\n",
    "import ssl\n",
    "from azureml.core import Workspace, Dataset, Experiment\n",
    "from azureml.train.automl import AutoMLConfig\n",
    "from azureml.core.compute import AmlCompute ,ComputeTarget\n",
    "from azureml.core.compute_target import ComputeTargetException\n",
    "from azure.ai.ml.entities import Model, Environment\n"
   ]
  },
  {
   "cell_type": "markdown",
   "metadata": {},
   "source": [
    "## Dataset\n",
    "\n",
    "### Overview\n",
    "I use the IRIS Pieces dataset for this project. It includes three iris species with 50 samples each as well as 4 properties and 1 label (the Species) about each flower.\n",
    "\n",
    "Properties:\n",
    "+ 'SepalLengthCm'\n",
    "+ 'SepalWidthCm'\n",
    "+ 'PetalLengthCm'\n",
    "+ 'PetalWidthCm'\n",
    "\n",
    "Label:'Species'\n",
    "\n",
    "\n",
    "TODO: Get data. In the cell below, write code to access the data you will be using in this project. Remember that the dataset needs to be external."
   ]
  },
  {
   "cell_type": "code",
   "execution_count": 3,
   "metadata": {
    "collapsed": false,
    "gather": {
     "logged": 1703927841849
    },
    "jupyter": {
     "outputs_hidden": false,
     "source_hidden": false
    },
    "nteract": {
     "transient": {
      "deleting": false
     }
    }
   },
   "outputs": [],
   "source": [
    "ws = Workspace.from_config()\n",
    "\n",
    "# choose a name for experiment\n",
    "experiment_name = 'final-experiment'\n",
    "\n",
    "experiment=Experiment(ws, experiment_name)\n",
    "\n",
    "dataset = Dataset.get_by_name(ws, name='IRIS-Dataset')\n",
    "dataset = dataset.drop_columns(\"Id\")\n"
   ]
  },
  {
   "cell_type": "markdown",
   "metadata": {},
   "source": [
    "## AutoML Configuration\n",
    "\n",
    "TODO: Explain why you chose the automl settings and cofiguration you used below."
   ]
  },
  {
   "cell_type": "code",
   "execution_count": 6,
   "metadata": {
    "collapsed": false,
    "gather": {
     "logged": 1703927848024
    },
    "jupyter": {
     "outputs_hidden": false,
     "source_hidden": false
    },
    "nteract": {
     "transient": {
      "deleting": false
     }
    }
   },
   "outputs": [
    {
     "name": "stdout",
     "output_type": "stream",
     "text": [
      "Found existing cluster, use it.\n",
      "\n",
      "Running\n"
     ]
    }
   ],
   "source": [
    "# TODO: Put your automl settings here\n",
    "\n",
    "\n",
    "automl_settings = {\n",
    "    \"experiment_timeout_minutes\": 20, # Because the dataset is small, I expect small timeout\n",
    "    \"max_concurrent_iterations\": 5,   # I choose 5 to make the training faster\n",
    "    \"primary_metric\" : 'accuracy' # Beacause this is the classfication problem, I want to choose Accuracy as metrics\n",
    "}\n",
    "\n",
    "amlcompute_cluster_name = \"notebook247476\"\n",
    "\n",
    "# Verify that cluster does not exist already\n",
    "try:\n",
    "    compute_target = ComputeTarget(workspace=ws, name=amlcompute_cluster_name)\n",
    "    print('Found existing cluster, use it.')\n",
    "except ComputeTargetException:\n",
    "    compute_config = AmlCompute.provisioning_configuration(vm_size='STANDARD_D2_V2',                                                           \n",
    "                                                           max_nodes=4)\n",
    "    compute_target = ComputeTarget.create(ws, amlcompute_cluster_name, compute_config)\n",
    "\n",
    "compute_target.wait_for_completion(show_output=True)\n",
    "\n",
    "# TODO: Put your automl config here\n",
    "automl_config = AutoMLConfig(\n",
    "    task=\"classification\",\n",
    "    compute_target=compute_target,training_data=dataset,\n",
    "    label_column_name=\"Species\",   \n",
    "    path = \"./\",\n",
    "    enable_early_stopping= True,\n",
    "    featurization= 'auto',\n",
    "    debug_log = \"automl_errors.log\",\n",
    "    **automl_settings\n",
    ")"
   ]
  },
  {
   "cell_type": "code",
   "execution_count": 7,
   "metadata": {
    "collapsed": false,
    "gather": {
     "logged": 1703927850679
    },
    "jupyter": {
     "outputs_hidden": false,
     "source_hidden": false
    },
    "nteract": {
     "transient": {
      "deleting": false
     }
    }
   },
   "outputs": [
    {
     "name": "stdout",
     "output_type": "stream",
     "text": [
      "Submitting remote run.\n"
     ]
    },
    {
     "data": {
      "text/html": [
       "<table style=\"width:100%\"><tr><th>Experiment</th><th>Id</th><th>Type</th><th>Status</th><th>Details Page</th><th>Docs Page</th></tr><tr><td>final-experiment</td><td>AutoML_9366a451-deed-4246-8e0e-47eb76edbb39</td><td>automl</td><td>NotStarted</td><td><a href=\"https://ml.azure.com/runs/AutoML_9366a451-deed-4246-8e0e-47eb76edbb39?wsid=/subscriptions/cdbe0b43-92a0-4715-838a-f2648cc7ad21/resourcegroups/aml-quickstarts-247476/workspaces/quick-starts-ws-247476&amp;tid=660b3398-b80e-49d2-bc5b-ac1dc93b5254\" target=\"_blank\" rel=\"noopener\">Link to Azure Machine Learning studio</a></td><td><a href=\"https://docs.microsoft.com/en-us/python/api/overview/azure/ml/intro?view=azure-ml-py\" target=\"_blank\" rel=\"noopener\">Link to Documentation</a></td></tr></table>"
      ]
     },
     "metadata": {},
     "output_type": "display_data"
    }
   ],
   "source": [
    "# TODO: Submit your experiment\n",
    "remote_run = experiment.submit(automl_config)"
   ]
  },
  {
   "cell_type": "markdown",
   "metadata": {},
   "source": [
    "## Run Details\n",
    "\n",
    "OPTIONAL: Write about the different models trained and their performance. Why do you think some models did better than others?\n",
    "\n",
    "TODO: In the cell below, use the `RunDetails` widget to show the different experiments."
   ]
  },
  {
   "cell_type": "code",
   "execution_count": 8,
   "metadata": {
    "collapsed": false,
    "gather": {
     "logged": 1703927857117
    },
    "jupyter": {
     "outputs_hidden": false,
     "source_hidden": false
    },
    "nteract": {
     "transient": {
      "deleting": false
     }
    }
   },
   "outputs": [
    {
     "data": {
      "application/vnd.jupyter.widget-view+json": {
       "model_id": "4c206688610f49debca7c384702afa04",
       "version_major": 2,
       "version_minor": 0
      },
      "text/plain": [
       "_AutoMLWidget(widget_settings={'childWidgetDisplay': 'popup', 'send_telemetry': False, 'log_level': 'INFO', 's…"
      ]
     },
     "metadata": {},
     "output_type": "display_data"
    },
    {
     "data": {
      "application/aml.mini.widget.v1": "{\"status\": \"Completed\", \"workbench_run_details_uri\": \"https://ml.azure.com/runs/AutoML_9366a451-deed-4246-8e0e-47eb76edbb39?wsid=/subscriptions/cdbe0b43-92a0-4715-838a-f2648cc7ad21/resourcegroups/aml-quickstarts-247476/workspaces/quick-starts-ws-247476&tid=660b3398-b80e-49d2-bc5b-ac1dc93b5254\", \"run_id\": \"AutoML_9366a451-deed-4246-8e0e-47eb76edbb39\", \"run_properties\": {\"run_id\": \"AutoML_9366a451-deed-4246-8e0e-47eb76edbb39\", \"created_utc\": \"2023-12-31T13:54:29.37318Z\", \"properties\": {\"num_iterations\": \"1000\", \"training_type\": \"TrainFull\", \"acquisition_function\": \"EI\", \"primary_metric\": \"accuracy\", \"train_split\": \"0\", \"acquisition_parameter\": \"0\", \"num_cross_validation\": null, \"target\": \"notebook247476\", \"AMLSettingsJsonString\": \"{\\\"path\\\":null,\\\"name\\\":\\\"final-experiment\\\",\\\"subscription_id\\\":\\\"cdbe0b43-92a0-4715-838a-f2648cc7ad21\\\",\\\"resource_group\\\":\\\"aml-quickstarts-247476\\\",\\\"workspace_name\\\":\\\"quick-starts-ws-247476\\\",\\\"region\\\":\\\"southcentralus\\\",\\\"compute_target\\\":\\\"notebook247476\\\",\\\"spark_service\\\":null,\\\"azure_service\\\":\\\"remote\\\",\\\"many_models\\\":false,\\\"pipeline_fetch_max_batch_size\\\":1,\\\"enable_batch_run\\\":true,\\\"enable_parallel_run\\\":false,\\\"num_procs\\\":null,\\\"enable_run_restructure\\\":false,\\\"start_auxiliary_runs_before_parent_complete\\\":false,\\\"enable_code_generation\\\":true,\\\"iterations\\\":1000,\\\"primary_metric\\\":\\\"accuracy\\\",\\\"task_type\\\":\\\"classification\\\",\\\"positive_label\\\":null,\\\"data_script\\\":null,\\\"test_size\\\":0.0,\\\"test_include_predictions_only\\\":false,\\\"validation_size\\\":0.0,\\\"n_cross_validations\\\":null,\\\"y_min\\\":null,\\\"y_max\\\":null,\\\"num_classes\\\":null,\\\"featurization\\\":\\\"auto\\\",\\\"_ignore_package_version_incompatibilities\\\":false,\\\"is_timeseries\\\":false,\\\"max_cores_per_iteration\\\":1,\\\"max_concurrent_iterations\\\":5,\\\"iteration_timeout_minutes\\\":null,\\\"mem_in_mb\\\":null,\\\"enforce_time_on_windows\\\":false,\\\"experiment_timeout_minutes\\\":20,\\\"experiment_exit_score\\\":null,\\\"partition_column_names\\\":null,\\\"whitelist_models\\\":null,\\\"blacklist_algos\\\":[\\\"TensorFlowLinearClassifier\\\",\\\"TensorFlowDNN\\\"],\\\"supported_models\\\":[\\\"BernoulliNaiveBayes\\\",\\\"KNN\\\",\\\"GradientBoosting\\\",\\\"LightGBM\\\",\\\"TensorFlowLinearClassifier\\\",\\\"SVM\\\",\\\"XGBoostClassifier\\\",\\\"LinearSVM\\\",\\\"DecisionTree\\\",\\\"TabnetClassifier\\\",\\\"AveragedPerceptronClassifier\\\",\\\"LogisticRegression\\\",\\\"ExtremeRandomTrees\\\",\\\"RandomForest\\\",\\\"MultinomialNaiveBayes\\\",\\\"TensorFlowDNN\\\",\\\"SGD\\\"],\\\"private_models\\\":[],\\\"auto_blacklist\\\":true,\\\"blacklist_samples_reached\\\":false,\\\"exclude_nan_labels\\\":true,\\\"verbosity\\\":20,\\\"_debug_log\\\":\\\"azureml_automl.log\\\",\\\"show_warnings\\\":false,\\\"model_explainability\\\":true,\\\"service_url\\\":null,\\\"sdk_url\\\":null,\\\"sdk_packages\\\":null,\\\"enable_onnx_compatible_models\\\":false,\\\"enable_split_onnx_featurizer_estimator_models\\\":false,\\\"vm_type\\\":\\\"STANDARD_DS3_V2\\\",\\\"telemetry_verbosity\\\":20,\\\"send_telemetry\\\":true,\\\"enable_dnn\\\":false,\\\"scenario\\\":\\\"AutoML\\\",\\\"environment_label\\\":null,\\\"save_mlflow\\\":false,\\\"enable_categorical_indicators\\\":false,\\\"force_text_dnn\\\":false,\\\"enable_feature_sweeping\\\":true,\\\"enable_early_stopping\\\":true,\\\"early_stopping_n_iters\\\":10,\\\"arguments\\\":null,\\\"dataset_id\\\":\\\"57a86567-c595-4435-95e3-d2bc0c3cef46\\\",\\\"hyperdrive_config\\\":null,\\\"validation_dataset_id\\\":null,\\\"run_source\\\":null,\\\"metrics\\\":null,\\\"enable_metric_confidence\\\":false,\\\"enable_ensembling\\\":true,\\\"enable_stack_ensembling\\\":true,\\\"ensemble_iterations\\\":15,\\\"enable_tf\\\":false,\\\"enable_subsampling\\\":null,\\\"subsample_seed\\\":null,\\\"enable_nimbusml\\\":false,\\\"enable_streaming\\\":false,\\\"force_streaming\\\":false,\\\"track_child_runs\\\":true,\\\"n_best_runs\\\":1,\\\"allowed_private_models\\\":[],\\\"label_column_name\\\":\\\"Species\\\",\\\"weight_column_name\\\":null,\\\"cv_split_column_names\\\":null,\\\"enable_local_managed\\\":false,\\\"_local_managed_run_id\\\":null,\\\"cost_mode\\\":1,\\\"lag_length\\\":0,\\\"metric_operation\\\":\\\"maximize\\\",\\\"preprocess\\\":true}\", \"DataPrepJsonString\": \"{\\\\\\\"training_data\\\\\\\": {\\\\\\\"datasetId\\\\\\\": \\\\\\\"57a86567-c595-4435-95e3-d2bc0c3cef46\\\\\\\"}, \\\\\\\"datasets\\\\\\\": 0}\", \"EnableSubsampling\": null, \"runTemplate\": \"AutoML\", \"azureml.runsource\": \"automl\", \"display_task_type\": \"classification\", \"dependencies_versions\": \"{\\\"azureml-dataprep-native\\\": \\\"38.0.0\\\", \\\"azureml-dataprep\\\": \\\"4.10.8\\\", \\\"azureml-dataprep-rslex\\\": \\\"2.17.12\\\", \\\"azureml-train-automl-runtime\\\": \\\"1.51.0.post2\\\", \\\"azureml-train-automl-client\\\": \\\"1.51.0.post1\\\", \\\"azureml-training-tabular\\\": \\\"1.51.0.post1\\\", \\\"azureml-automl-runtime\\\": \\\"1.51.0.post1\\\", \\\"azureml-automl-core\\\": \\\"1.51.0.post1\\\", \\\"azureml-mlflow\\\": \\\"1.51.0\\\", \\\"azureml-datadrift\\\": \\\"1.51.0\\\", \\\"azureml-pipeline\\\": \\\"1.51.0\\\", \\\"azureml-contrib-dataset\\\": \\\"1.51.0\\\", \\\"azureml-contrib-notebook\\\": \\\"1.51.0\\\", \\\"azureml-accel-models\\\": \\\"1.51.0\\\", \\\"azureml-automl-dnn-nlp\\\": \\\"1.51.0\\\", \\\"azureml-pipeline-core\\\": \\\"1.51.0\\\", \\\"azureml-responsibleai\\\": \\\"1.51.0\\\", \\\"azureml-contrib-automl-pipeline-steps\\\": \\\"1.51.0\\\", \\\"azureml-pipeline-steps\\\": \\\"1.51.0\\\", \\\"azureml-core\\\": \\\"1.51.0\\\", \\\"azureml-contrib-reinforcementlearning\\\": \\\"1.51.0\\\", \\\"azureml-contrib-server\\\": \\\"1.51.0\\\", \\\"azureml-opendatasets\\\": \\\"1.51.0\\\", \\\"azureml-contrib-services\\\": \\\"1.51.0\\\", \\\"azureml-telemetry\\\": \\\"1.51.0\\\", \\\"azureml-train-restclients-hyperdrive\\\": \\\"1.51.0\\\", \\\"azureml-interpret\\\": \\\"1.51.0\\\", \\\"azureml-train-core\\\": \\\"1.51.0\\\", \\\"azureml-tensorboard\\\": \\\"1.51.0\\\", \\\"azureml-train\\\": \\\"1.51.0\\\", \\\"azureml-contrib-pipeline-steps\\\": \\\"1.51.0\\\", \\\"azureml-explain-model\\\": \\\"1.51.0\\\", \\\"azureml-cli-common\\\": \\\"1.51.0\\\", \\\"azureml-widgets\\\": \\\"1.51.0\\\", \\\"azureml-train-automl\\\": \\\"1.51.0\\\", \\\"azureml-defaults\\\": \\\"1.51.0\\\", \\\"azureml-contrib-fairness\\\": \\\"1.51.0\\\", \\\"azureml-sdk\\\": \\\"1.51.0\\\", \\\"azureml-dataset-runtime\\\": \\\"1.51.0\\\", \\\"azureml-inference-server-http\\\": \\\"0.8.4\\\"}\", \"_aml_system_scenario_identification\": \"Remote.Parent\", \"ClientType\": \"SDK\", \"PlatformVersion\": \"DPV1\", \"environment_cpu_name\": \"AzureML-AutoML\", \"environment_cpu_label\": \"scikit-upgrade2\", \"environment_gpu_name\": \"AzureML-AutoML-GPU\", \"environment_gpu_label\": \"scikit-upgrade2\", \"root_attribution\": \"automl\", \"attribution\": \"AutoML\", \"Orchestrator\": \"AutoML\", \"CancelUri\": \"https://southcentralus.api.azureml.ms/jasmine/v1.0/subscriptions/cdbe0b43-92a0-4715-838a-f2648cc7ad21/resourceGroups/aml-quickstarts-247476/providers/Microsoft.MachineLearningServices/workspaces/quick-starts-ws-247476/experimentids/b2d67d92-a5a3-4a68-b81b-04a53cad2aa8/cancel/AutoML_9366a451-deed-4246-8e0e-47eb76edbb39\", \"ClientSdkVersion\": null, \"snapshotId\": \"00000000-0000-0000-0000-000000000000\", \"SetupRunId\": \"AutoML_9366a451-deed-4246-8e0e-47eb76edbb39_setup\", \"SetupRunContainerId\": \"dcid.AutoML_9366a451-deed-4246-8e0e-47eb76edbb39_setup\", \"FeaturizationRunJsonPath\": \"featurizer_container.json\", \"FeaturizationRunId\": \"AutoML_9366a451-deed-4246-8e0e-47eb76edbb39_featurize\", \"ProblemInfoJsonString\": \"{\\\"dataset_num_categorical\\\": 0, \\\"is_sparse\\\": false, \\\"subsampling\\\": false, \\\"has_extra_col\\\": true, \\\"dataset_classes\\\": 3, \\\"dataset_features\\\": 4, \\\"dataset_samples\\\": 150, \\\"single_frequency_class_detected\\\": false}\", \"ModelExplainRunId\": \"AutoML_9366a451-deed-4246-8e0e-47eb76edbb39_ModelExplain\"}, \"tags\": {\"model_explain_run\": \"best_run\", \"_aml_system_automl_run_workspace_id\": \"f313fcde-975c-4c34-8502-7ea06183323d\", \"_aml_system_azureml.automlComponent\": \"AutoML\", \"pipeline_id_000\": \"5dfac790c5c209f98a1da2dc1c7fb76f0397324f;5f21d4801ee2a6073890b89985177d37ef49c646;628c2351f7c75d74ad3673f2d39af16d6976da2e;22bffc6cdfb453aa19b0792ec8a8b592bd44dc5b;c7af0367625be6ac5c2fecbfc72ed444cb7a2111;081b692de9e87424d86c2c1d0787b65e098fc386;3735210984ea10097d5c91905cf6300ac278cd89;bc4e14e9481990f09b66c70640f3b1c528f584ac;294650ec23bc3d067a4972de7ceb12f6e97260fa;799d2168db11fc19b9e1c6c1df62f8981ad39fe9;2964988f7520e6167bfe42ba2c42ab4a75f8a68c;ce96746d6f86360fe360023f5ae43340d1986145;44b5d2d23120dfcf96a7dc6389a293d17a966b1b;5304e705d6f401cb07f85bcf0ca59ac1f84dfcf5;08e13545f5f7e2df5ef6a66d4110cfd996b1a0e3;7b422e7b3f86902c2409d5b5d9ff0c84d5dacfee;ca211529127bb19e1fc933b24b457a03beb5e48e;3caa818370e5e0c328d6266c359019bd31681270;589334a57221e0720a95cf217c065115a7b841d1;35b8e2db3c5f6e714072e1be9f0210fe48426975;da45f657e4591caadf1589a85a1f7b8932585595;3fd2e115482e0c7b92aa3297688aefb6c3aa6fb8;1dfdf370ba770047b14bfa59c40920815defcdab;17f87d449bb43aaf3cdae4b7eb6dd6e7fbdaf343;32a008a72ab56ca0a2cfca37286e4f138e6690a8;c28404fa0434867ba260233bc52cbf0382c5bee1;dc68fbd594530b5d52812dd9b3ffa3d6d8ba625e;81078c60955531b2bcfc1c306120f6c0a2806d96;c031b75468cd55582e57680a168a7e90bbe70eef;7cdd65ff04d5c36b64d220b9756a806bd19a22fe;fe51b732c820848d74c65ce4df759006a4fcffba;368f0fd0dfe486a00ac595337653a9ac1f8af981;b9d518a57236f5d9ddc11c3d6306d827dc8819a8;b4c3b01874b1583df6571776d5cec87770956d80;f59823bf9670f84a1a658205b04e107ac6ca90d4;591e9e5e6101c88d139a2b154783414d1f202fd3;b7b3584432c8ddac81517f34ffd8899ac4f3b7e6;a312828443939957939fc830012988428b325854;__AutoML_Stack_Ensemble__;__AutoML_Ensemble__\", \"score_000\": \"0.9466666666666667;0.9600000000000002;0.9600000000000002;0.9800000000000001;0.9466666666666667;0.96;0.9533333333333334;0.9600000000000002;0.9400000000000001;0.9533333333333334;0.9800000000000001;0.9466666666666667;0.9466666666666667;0.9400000000000001;0.9400000000000001;0.9466666666666667;0.9533333333333334;0.9466666666666667;0.9466666666666667;0.9333333333333333;0.9800000000000001;0.9466666666666667;0.9666666666666666;0.9466666666666667;0.9733333333333334;0.9800000000000001;0.9466666666666667;0.9533333333333334;0.9333333333333333;0.96;0.9400000000000001;0.9466666666666667;0.9466666666666667;0.9666666666666666;0.9800000000000001;NaN;NaN;NaN;0.9733333333333333;0.9800000000000001\", \"predicted_cost_000\": \"0;0.5;0.5;0.5;0;0.5;0.5;0.5;0.5;0.5;0.5;0.5;0.5;0.5;0.5;0.5;0.5;0.5;0.5;0.5;0.03390815510422217;0.004443931860732923;0.11377252202360627;0.027961499148252533;0.009951097948057548;0.00799162290490134;0.015616879719824025;0.008702073009792222;0.00464612440079692;0.016384235266947423;0.02619555736029365;0.006986841724881756;0.012459818911592183;0.011579247189167339;0.02727374360539842;0.008008755447502156;0.03332881183553769;0.14469499377927217;0;0\", \"fit_time_000\": \"0.04823039999999999;0.003281;0.0029821;0.0181231;0.039611099999999996;0.004172200000000001;0.0129042;0.006320300000000001;0.0126537;0.15330910000000003;0.0192639;0.0033192;0.0088016;0.0066844;0.25668719999999995;0.0031284;0.0025283;0.009361000000000001;0.0086858;0.0103555;0.0202964;0.0083974;0.18009129999999998;0.05198590000000001;0.0126806;0.0165828;0.0220485;0.0063273999999999995;0.0095483;0.0099251;0.0222043;0.0234764;0.0098799;0.0079427;0.0093347;NaN;NaN;NaN;23;17\", \"training_percent_000\": \"100;100;100;100;100;100;100;100;100;100;100;100;100;100;100;100;100;100;100;100;100;100;100;100;100;100;100;100;100;100;100;100;100;100;100;100;100;100;100;100\", \"iteration_000\": \"0;8;4;12;1;9;5;13;10;2;6;14;3;7;11;15;16;17;18;19;20;21;22;23;25;27;24;26;29;30;31;28;34;35;32;37;33;36;39;38\", \"run_preprocessor_000\": \"MaxAbsScaler;StandardScalerWrapper;StandardScalerWrapper;StandardScalerWrapper;MaxAbsScaler;StandardScalerWrapper;MaxAbsScaler;StandardScalerWrapper;StandardScalerWrapper;MaxAbsScaler;RobustScaler;RobustScaler;SparseNormalizer;MaxAbsScaler;MinMaxScaler;MinMaxScaler;SparseNormalizer;MaxAbsScaler;StandardScalerWrapper;StandardScalerWrapper;MaxAbsScaler;StandardScalerWrapper;SparseNormalizer;StandardScalerWrapper;MinMaxScaler;StandardScalerWrapper;StandardScalerWrapper;RobustScaler;MaxAbsScaler;StandardScalerWrapper;StandardScalerWrapper;MaxAbsScaler;StandardScalerWrapper;StandardScalerWrapper;StandardScalerWrapper;;;SparseNormalizer;;\", \"run_algorithm_000\": \"LightGBM;KNN;KNN;LogisticRegression;XGBoostClassifier;SVM;LightGBM;KNN;XGBoostClassifier;ExtremeRandomTrees;LogisticRegression;KNN;XGBoostClassifier;LightGBM;RandomForest;KNN;KNN;LogisticRegression;XGBoostClassifier;XGBoostClassifier;LogisticRegression;XGBoostClassifier;RandomForest;RandomForest;LogisticRegression;LogisticRegression;XGBoostClassifier;SVM;LogisticRegression;LogisticRegression;LogisticRegression;LogisticRegression;LogisticRegression;LogisticRegression;LogisticRegression;;;XGBoostClassifier;StackEnsemble;VotingEnsemble\", \"dynamic_allowlisting_iterations\": \"<25>;<30>;<35>;\", \"_aml_system_azureml.automl_early_exit_message\": \"No scores improved over last 10 iterations, so experiment stopped early. This early stopping behavior can be disabled by setting enable_early_stopping = False in AutoMLConfig for notebook/python SDK runs.\", \"automl_best_child_run_id\": \"AutoML_9366a451-deed-4246-8e0e-47eb76edbb39_6\", \"model_explain_best_run_child_id\": \"AutoML_9366a451-deed-4246-8e0e-47eb76edbb39_6\"}, \"end_time_utc\": \"2023-12-31T14:03:47.872165Z\", \"status\": \"Completed\", \"log_files\": {}, \"log_groups\": [], \"run_duration\": \"0:09:18\", \"run_number\": \"1704030869\", \"run_queued_details\": {\"status\": \"Completed\", \"details\": null}}, \"child_runs\": [{\"run_id\": \"AutoML_9366a451-deed-4246-8e0e-47eb76edbb39_setup\", \"run_number\": 1704030881, \"metric\": null, \"status\": \"Completed\", \"run_type\": \"azureml.scriptrun\", \"training_percent\": null, \"start_time\": \"2023-12-31T13:54:50.769932Z\", \"end_time\": \"2023-12-31T13:55:19.546141Z\", \"created_time\": \"2023-12-31T13:54:41.705447Z\", \"created_time_dt\": \"2023-12-31T13:54:41.705447Z\", \"duration\": \"0:00:37\", \"iteration\": null, \"goal\": null, \"run_name\": \"Completed\", \"run_properties\": null}, {\"run_id\": \"AutoML_9366a451-deed-4246-8e0e-47eb76edbb39_featurize\", \"run_number\": 1704030919, \"metric\": null, \"status\": \"Completed\", \"run_type\": \"automl.featurization\", \"training_percent\": null, \"start_time\": \"2023-12-31T13:55:20.385998Z\", \"end_time\": \"2023-12-31T13:55:58.387152Z\", \"created_time\": \"2023-12-31T13:55:19.802468Z\", \"created_time_dt\": \"2023-12-31T13:55:19.802468Z\", \"duration\": \"0:00:38\", \"iteration\": null, \"goal\": null, \"run_name\": \"Completed\", \"run_properties\": null}, {\"run_id\": \"AutoML_9366a451-deed-4246-8e0e-47eb76edbb39_0\", \"run_number\": 1704030959, \"metric\": null, \"status\": \"Completed\", \"run_type\": null, \"training_percent\": \"100\", \"start_time\": \"2023-12-31T13:56:18.694235Z\", \"end_time\": \"2023-12-31T13:56:35.56248Z\", \"created_time\": \"2023-12-31T13:55:59.762528Z\", \"created_time_dt\": \"2023-12-31T13:55:59.762528Z\", \"duration\": \"0:00:35\", \"iteration\": \"0\", \"goal\": \"accuracy_max\", \"run_name\": \"MaxAbsScaler, LightGBM\", \"run_properties\": \"copy=True\", \"primary_metric\": 0.94666667, \"best_metric\": 0.94666667}, {\"run_id\": \"AutoML_9366a451-deed-4246-8e0e-47eb76edbb39_1\", \"run_number\": 1704030960, \"metric\": null, \"status\": \"Completed\", \"run_type\": null, \"training_percent\": \"100\", \"start_time\": \"2023-12-31T13:56:36.294696Z\", \"end_time\": \"2023-12-31T13:56:49.597877Z\", \"created_time\": \"2023-12-31T13:56:00.222371Z\", \"created_time_dt\": \"2023-12-31T13:56:00.222371Z\", \"duration\": \"0:00:49\", \"iteration\": \"1\", \"goal\": \"accuracy_max\", \"run_name\": \"MaxAbsScaler, XGBoostClassifier\", \"run_properties\": \"copy=True\", \"primary_metric\": 0.94666667, \"best_metric\": 0.94666667}, {\"run_id\": \"AutoML_9366a451-deed-4246-8e0e-47eb76edbb39_worker_0\", \"run_number\": 1704030961, \"metric\": null, \"status\": \"Completed\", \"run_type\": \"azureml.scriptrun\", \"training_percent\": null, \"start_time\": \"2023-12-31T13:56:08.15197Z\", \"end_time\": \"2023-12-31T13:57:23.260868Z\", \"created_time\": \"2023-12-31T13:56:01.498215Z\", \"created_time_dt\": \"2023-12-31T13:56:01.498215Z\", \"duration\": \"0:01:21\", \"iteration\": null, \"goal\": null, \"run_name\": \"Completed\", \"run_properties\": null}, {\"run_id\": \"AutoML_9366a451-deed-4246-8e0e-47eb76edbb39_5\", \"run_number\": 1704030962, \"metric\": null, \"status\": \"Completed\", \"run_type\": null, \"training_percent\": \"100\", \"start_time\": \"2023-12-31T13:56:40.045583Z\", \"end_time\": \"2023-12-31T13:56:52.544143Z\", \"created_time\": \"2023-12-31T13:56:02.210998Z\", \"created_time_dt\": \"2023-12-31T13:56:02.210998Z\", \"duration\": \"0:00:50\", \"iteration\": \"5\", \"goal\": \"accuracy_max\", \"run_name\": \"MaxAbsScaler, LightGBM\", \"run_properties\": \"copy=True\", \"primary_metric\": 0.95333333, \"best_metric\": 0.95333333}, {\"run_id\": \"AutoML_9366a451-deed-4246-8e0e-47eb76edbb39_worker_1\", \"run_number\": 1704030963, \"metric\": null, \"status\": \"Completed\", \"run_type\": \"azureml.scriptrun\", \"training_percent\": null, \"start_time\": \"2023-12-31T13:56:11.673385Z\", \"end_time\": \"2023-12-31T13:57:23.954508Z\", \"created_time\": \"2023-12-31T13:56:03.417475Z\", \"created_time_dt\": \"2023-12-31T13:56:03.417475Z\", \"duration\": \"0:01:20\", \"iteration\": null, \"goal\": null, \"run_name\": \"Completed\", \"run_properties\": null}, {\"run_id\": \"AutoML_9366a451-deed-4246-8e0e-47eb76edbb39_10\", \"run_number\": 1704030964, \"metric\": null, \"status\": \"Completed\", \"run_type\": null, \"training_percent\": \"100\", \"start_time\": \"2023-12-31T13:56:51.746735Z\", \"end_time\": \"2023-12-31T13:57:03.748974Z\", \"created_time\": \"2023-12-31T13:56:04.390597Z\", \"created_time_dt\": \"2023-12-31T13:56:04.390597Z\", \"duration\": \"0:00:59\", \"iteration\": \"10\", \"goal\": \"accuracy_max\", \"run_name\": \"StandardScalerWrapper, XGBoostClassifier\", \"run_properties\": \"copy=True, with_mean=False, with_std=False\", \"primary_metric\": 0.94, \"best_metric\": 0.95333333}, {\"run_id\": \"AutoML_9366a451-deed-4246-8e0e-47eb76edbb39_worker_2\", \"run_number\": 1704030965, \"metric\": null, \"status\": \"Completed\", \"run_type\": \"azureml.scriptrun\", \"training_percent\": null, \"start_time\": \"2023-12-31T13:56:11.658762Z\", \"end_time\": \"2023-12-31T13:57:25.603855Z\", \"created_time\": \"2023-12-31T13:56:05.209652Z\", \"created_time_dt\": \"2023-12-31T13:56:05.209652Z\", \"duration\": \"0:01:20\", \"iteration\": null, \"goal\": null, \"run_name\": \"Completed\", \"run_properties\": null}, {\"run_id\": \"AutoML_9366a451-deed-4246-8e0e-47eb76edbb39_14\", \"run_number\": 1704030966, \"metric\": null, \"status\": \"Completed\", \"run_type\": null, \"training_percent\": \"100\", \"start_time\": \"2023-12-31T13:56:54.922977Z\", \"end_time\": \"2023-12-31T13:57:07.436915Z\", \"created_time\": \"2023-12-31T13:56:06.267709Z\", \"created_time_dt\": \"2023-12-31T13:56:06.267709Z\", \"duration\": \"0:01:01\", \"iteration\": \"14\", \"goal\": \"accuracy_max\", \"run_name\": \"RobustScaler, KNN\", \"run_properties\": \"copy=True, quantile_range=[10, 90], with_centering=False,\\n             with_scaling=True\", \"primary_metric\": 0.94666667, \"best_metric\": 0.95333333}, {\"run_id\": \"AutoML_9366a451-deed-4246-8e0e-47eb76edbb39_worker_3\", \"run_number\": 1704030967, \"metric\": null, \"status\": \"Completed\", \"run_type\": \"azureml.scriptrun\", \"training_percent\": null, \"start_time\": \"2023-12-31T13:56:14.336457Z\", \"end_time\": \"2023-12-31T13:57:26.812822Z\", \"created_time\": \"2023-12-31T13:56:07.486469Z\", \"created_time_dt\": \"2023-12-31T13:56:07.486469Z\", \"duration\": \"0:01:19\", \"iteration\": null, \"goal\": null, \"run_name\": \"Completed\", \"run_properties\": null}, {\"run_id\": \"AutoML_9366a451-deed-4246-8e0e-47eb76edbb39_17\", \"run_number\": 1704030968, \"metric\": null, \"status\": \"Completed\", \"run_type\": null, \"training_percent\": \"100\", \"start_time\": \"2023-12-31T13:57:45.944017Z\", \"end_time\": \"2023-12-31T13:57:56.595681Z\", \"created_time\": \"2023-12-31T13:56:08.129837Z\", \"created_time_dt\": \"2023-12-31T13:56:08.129837Z\", \"duration\": \"0:01:48\", \"iteration\": \"17\", \"goal\": \"accuracy_max\", \"run_name\": \"MaxAbsScaler, LogisticRegression\", \"run_properties\": \"copy=True\", \"primary_metric\": 0.94666667, \"best_metric\": 0.95333333}, {\"run_id\": \"AutoML_9366a451-deed-4246-8e0e-47eb76edbb39_worker_4\", \"run_number\": 1704030969, \"metric\": null, \"status\": \"Completed\", \"run_type\": \"azureml.scriptrun\", \"training_percent\": null, \"start_time\": \"2023-12-31T13:57:23.974148Z\", \"end_time\": \"2023-12-31T13:58:25.815724Z\", \"created_time\": \"2023-12-31T13:56:09.420202Z\", \"created_time_dt\": \"2023-12-31T13:56:09.420202Z\", \"duration\": \"0:02:16\", \"iteration\": null, \"goal\": null, \"run_name\": \"Completed\", \"run_properties\": null}, {\"run_id\": \"AutoML_9366a451-deed-4246-8e0e-47eb76edbb39_20\", \"run_number\": 1704031068, \"metric\": null, \"status\": \"Completed\", \"run_type\": \"azureml.scriptrun\", \"training_percent\": \"100\", \"start_time\": \"2023-12-31T13:57:55.423947Z\", \"end_time\": \"2023-12-31T13:58:22.929842Z\", \"created_time\": \"2023-12-31T13:57:48.607473Z\", \"created_time_dt\": \"2023-12-31T13:57:48.607473Z\", \"duration\": \"0:00:34\", \"iteration\": \"20\", \"goal\": \"accuracy_max\", \"run_name\": \"MaxAbsScaler, LogisticRegression\", \"run_properties\": \"copy=True\", \"primary_metric\": 0.98, \"best_metric\": 0.98}, {\"run_id\": \"AutoML_9366a451-deed-4246-8e0e-47eb76edbb39_24\", \"run_number\": 1704031105, \"metric\": null, \"status\": \"Completed\", \"run_type\": \"azureml.scriptrun\", \"training_percent\": \"100\", \"start_time\": \"2023-12-31T13:58:32.295943Z\", \"end_time\": \"2023-12-31T13:59:35.609248Z\", \"created_time\": \"2023-12-31T13:58:25.091261Z\", \"created_time_dt\": \"2023-12-31T13:58:25.091261Z\", \"duration\": \"0:01:10\", \"iteration\": \"24\", \"goal\": \"accuracy_max\", \"run_name\": \"StandardScalerWrapper, XGBoostClassifier\", \"run_properties\": \"copy=True, with_mean=False, with_std=False\", \"primary_metric\": 0.94666667, \"best_metric\": 0.98}, {\"run_id\": \"AutoML_9366a451-deed-4246-8e0e-47eb76edbb39_25\", \"run_number\": 1704031132, \"metric\": null, \"status\": \"Completed\", \"run_type\": \"azureml.scriptrun\", \"training_percent\": \"100\", \"start_time\": \"2023-12-31T13:58:59.763738Z\", \"end_time\": \"2023-12-31T13:59:30.191321Z\", \"created_time\": \"2023-12-31T13:58:52.705645Z\", \"created_time_dt\": \"2023-12-31T13:58:52.705645Z\", \"duration\": \"0:00:37\", \"iteration\": \"25\", \"goal\": \"accuracy_max\", \"run_name\": \"MinMaxScaler, LogisticRegression\", \"run_properties\": \"copy=True, feature_range=(0, 1\", \"primary_metric\": 0.97333333, \"best_metric\": 0.98}, {\"run_id\": \"AutoML_9366a451-deed-4246-8e0e-47eb76edbb39_27\", \"run_number\": 1704031136, \"metric\": null, \"status\": \"Completed\", \"run_type\": \"azureml.scriptrun\", \"training_percent\": \"100\", \"start_time\": \"2023-12-31T13:59:03.586235Z\", \"end_time\": \"2023-12-31T13:59:34.503709Z\", \"created_time\": \"2023-12-31T13:58:56.670971Z\", \"created_time_dt\": \"2023-12-31T13:58:56.670971Z\", \"duration\": \"0:00:37\", \"iteration\": \"27\", \"goal\": \"accuracy_max\", \"run_name\": \"StandardScalerWrapper, LogisticRegression\", \"run_properties\": \"copy=True, with_mean=True, with_std=True\", \"primary_metric\": 0.98, \"best_metric\": 0.98}, {\"run_id\": \"AutoML_9366a451-deed-4246-8e0e-47eb76edbb39_28\", \"run_number\": 1704031167, \"metric\": null, \"status\": \"Completed\", \"run_type\": \"azureml.scriptrun\", \"training_percent\": \"100\", \"start_time\": \"2023-12-31T13:59:34.51964Z\", \"end_time\": \"2023-12-31T14:00:42.773613Z\", \"created_time\": \"2023-12-31T13:59:27.770271Z\", \"created_time_dt\": \"2023-12-31T13:59:27.770271Z\", \"duration\": \"0:01:15\", \"iteration\": \"28\", \"goal\": \"accuracy_max\", \"run_name\": \"MaxAbsScaler, LogisticRegression\", \"run_properties\": \"copy=True\", \"primary_metric\": 0.94666667, \"best_metric\": 0.98}, {\"run_id\": \"AutoML_9366a451-deed-4246-8e0e-47eb76edbb39_29\", \"run_number\": 1704031171, \"metric\": null, \"status\": \"Completed\", \"run_type\": \"azureml.scriptrun\", \"training_percent\": \"100\", \"start_time\": \"2023-12-31T13:59:38.314565Z\", \"end_time\": \"2023-12-31T14:00:10.792594Z\", \"created_time\": \"2023-12-31T13:59:31.497148Z\", \"created_time_dt\": \"2023-12-31T13:59:31.497148Z\", \"duration\": \"0:00:39\", \"iteration\": \"29\", \"goal\": \"accuracy_max\", \"run_name\": \"MaxAbsScaler, LogisticRegression\", \"run_properties\": \"copy=True\", \"primary_metric\": 0.93333333, \"best_metric\": 0.98}, {\"run_id\": \"AutoML_9366a451-deed-4246-8e0e-47eb76edbb39_30\", \"run_number\": 1704031176, \"metric\": null, \"status\": \"Completed\", \"run_type\": \"azureml.scriptrun\", \"training_percent\": \"100\", \"start_time\": \"2023-12-31T13:59:43.406682Z\", \"end_time\": \"2023-12-31T14:00:14.332503Z\", \"created_time\": \"2023-12-31T13:59:36.733475Z\", \"created_time_dt\": \"2023-12-31T13:59:36.733475Z\", \"duration\": \"0:00:37\", \"iteration\": \"30\", \"goal\": \"accuracy_max\", \"run_name\": \"StandardScalerWrapper, LogisticRegression\", \"run_properties\": \"copy=True, with_mean=False, with_std=False\", \"primary_metric\": 0.96, \"best_metric\": 0.98}, {\"run_id\": \"AutoML_9366a451-deed-4246-8e0e-47eb76edbb39_31\", \"run_number\": 1704031178, \"metric\": null, \"status\": \"Completed\", \"run_type\": \"azureml.scriptrun\", \"training_percent\": \"100\", \"start_time\": \"2023-12-31T13:59:59.63911Z\", \"end_time\": \"2023-12-31T14:00:28.816584Z\", \"created_time\": \"2023-12-31T13:59:38.613282Z\", \"created_time_dt\": \"2023-12-31T13:59:38.613282Z\", \"duration\": \"0:00:50\", \"iteration\": \"31\", \"goal\": \"accuracy_max\", \"run_name\": \"StandardScalerWrapper, LogisticRegression\", \"run_properties\": \"copy=True, with_mean=False, with_std=True\", \"primary_metric\": 0.94, \"best_metric\": 0.98}, {\"run_id\": \"AutoML_9366a451-deed-4246-8e0e-47eb76edbb39_32\", \"run_number\": 1704031200, \"metric\": null, \"status\": \"Completed\", \"run_type\": \"azureml.scriptrun\", \"training_percent\": \"100\", \"start_time\": \"2023-12-31T14:00:11.432135Z\", \"end_time\": \"2023-12-31T14:01:50.898887Z\", \"created_time\": \"2023-12-31T14:00:00.274388Z\", \"created_time_dt\": \"2023-12-31T14:00:00.274388Z\", \"duration\": \"0:01:50\", \"iteration\": \"32\", \"goal\": \"accuracy_max\", \"run_name\": \"StandardScalerWrapper, LogisticRegression\", \"run_properties\": \"copy=True, with_mean=True, with_std=True\", \"primary_metric\": 0.98, \"best_metric\": 0.98}, {\"run_id\": \"AutoML_9366a451-deed-4246-8e0e-47eb76edbb39_33\", \"run_number\": 1704031212, \"metric\": null, \"status\": \"Canceled\", \"run_type\": \"azureml.scriptrun\", \"training_percent\": \"100\", \"start_time\": \"2023-12-31T14:00:19.175306Z\", \"end_time\": \"2023-12-31T14:01:53.961134Z\", \"created_time\": \"2023-12-31T14:00:12.364451Z\", \"created_time_dt\": \"2023-12-31T14:00:12.364451Z\", \"duration\": \"0:01:41\", \"iteration\": \"33\", \"goal\": null, \"run_name\": \"Canceled\", \"run_properties\": null}, {\"run_id\": \"AutoML_9366a451-deed-4246-8e0e-47eb76edbb39_34\", \"run_number\": 1704031215, \"metric\": null, \"status\": \"Completed\", \"run_type\": \"azureml.scriptrun\", \"training_percent\": \"100\", \"start_time\": \"2023-12-31T14:00:29.489449Z\", \"end_time\": \"2023-12-31T14:00:58.339519Z\", \"created_time\": \"2023-12-31T14:00:15.773932Z\", \"created_time_dt\": \"2023-12-31T14:00:15.773932Z\", \"duration\": \"0:00:42\", \"iteration\": \"34\", \"goal\": \"accuracy_max\", \"run_name\": \"StandardScalerWrapper, LogisticRegression\", \"run_properties\": \"copy=True, with_mean=True, with_std=True\", \"primary_metric\": 0.94666667, \"best_metric\": 0.98}, {\"run_id\": \"AutoML_9366a451-deed-4246-8e0e-47eb76edbb39_35\", \"run_number\": 1704031231, \"metric\": null, \"status\": \"Completed\", \"run_type\": \"azureml.scriptrun\", \"training_percent\": \"100\", \"start_time\": \"2023-12-31T14:00:43.352027Z\", \"end_time\": \"2023-12-31T14:01:47.78001Z\", \"created_time\": \"2023-12-31T14:00:31.249654Z\", \"created_time_dt\": \"2023-12-31T14:00:31.249654Z\", \"duration\": \"0:01:16\", \"iteration\": \"35\", \"goal\": \"accuracy_max\", \"run_name\": \"StandardScalerWrapper, LogisticRegression\", \"run_properties\": \"copy=True, with_mean=True, with_std=False\", \"primary_metric\": 0.96666667, \"best_metric\": 0.98}, {\"run_id\": \"AutoML_9366a451-deed-4246-8e0e-47eb76edbb39_36\", \"run_number\": 1704031244, \"metric\": null, \"status\": \"Canceled\", \"run_type\": \"azureml.scriptrun\", \"training_percent\": \"100\", \"start_time\": \"2023-12-31T14:00:58.995927Z\", \"end_time\": \"2023-12-31T14:01:53.851306Z\", \"created_time\": \"2023-12-31T14:00:44.171993Z\", \"created_time_dt\": \"2023-12-31T14:00:44.171993Z\", \"duration\": \"0:01:09\", \"iteration\": \"36\", \"goal\": null, \"run_name\": \"SparseNormalizer, XGBoostClassifier\", \"run_properties\": null}, {\"run_id\": \"AutoML_9366a451-deed-4246-8e0e-47eb76edbb39_37\", \"run_number\": 1704031260, \"metric\": null, \"status\": \"Canceled\", \"run_type\": \"azureml.scriptrun\", \"training_percent\": \"100\", \"start_time\": \"2023-12-31T14:01:48.494435Z\", \"end_time\": \"2023-12-31T14:01:54.022784Z\", \"created_time\": \"2023-12-31T14:01:00.200329Z\", \"created_time_dt\": \"2023-12-31T14:01:00.200329Z\", \"duration\": \"0:00:53\", \"iteration\": \"37\", \"goal\": null, \"run_name\": \"Canceled\", \"run_properties\": null}, {\"run_id\": \"AutoML_9366a451-deed-4246-8e0e-47eb76edbb39_39\", \"run_number\": 1704031314, \"metric\": null, \"status\": \"Completed\", \"run_type\": \"azureml.scriptrun\", \"training_percent\": \"100\", \"start_time\": \"2023-12-31T14:02:01.890493Z\", \"end_time\": \"2023-12-31T14:03:34.200009Z\", \"created_time\": \"2023-12-31T14:01:54.724627Z\", \"created_time_dt\": \"2023-12-31T14:01:54.724627Z\", \"duration\": \"0:01:39\", \"iteration\": \"39\", \"goal\": \"accuracy_max\", \"run_name\": \"StackEnsemble\", \"run_properties\": \"base_learners=[('32', Pipeline(memory=None, steps=[('standardscalerwrapper', StandardScalerWrapper(copy=True, with_mean=True, with_std=True\", \"primary_metric\": 0.97333333, \"best_metric\": 0.98}], \"children_metrics\": {\"categories\": [0], \"series\": {\"AUC_micro\": [{\"categories\": [\"0\", \"1\", \"5\", \"10\", \"14\", \"17\", \"20\", \"24\", \"25\", \"27\", \"28\", \"29\", \"30\", \"31\", \"32\", \"34\", \"35\", \"39\"], \"mode\": \"markers\", \"name\": \"AUC_micro\", \"stepped\": false, \"type\": \"scatter\", \"data\": [0.987111111111111, 0.984, 0.9895555555555555, 0.994, 0.9925555555555554, 0.9948888888888888, 0.998, 0.9926666666666666, 0.9982222222222221, 0.9984444444444444, 0.9935555555555556, 0.9904444444444443, 0.9951111111111111, 0.9933333333333335, 0.9984444444444444, 0.9946666666666667, 0.9962222222222223, 0.9906666666666666]}, {\"categories\": [\"0\", \"1\", \"5\", \"10\", \"14\", \"17\", \"20\", \"24\", \"25\", \"27\", \"28\", \"29\", \"30\", \"31\", \"32\", \"34\", \"35\", \"39\"], \"mode\": \"lines\", \"name\": \"AUC_micro_max\", \"stepped\": true, \"type\": \"scatter\", \"data\": [0.987111111111111, 0.987111111111111, 0.9895555555555555, 0.994, 0.994, 0.9948888888888888, 0.998, 0.998, 0.9982222222222221, 0.9984444444444444, 0.9984444444444444, 0.9984444444444444, 0.9984444444444444, 0.9984444444444444, 0.9984444444444444, 0.9984444444444444, 0.9984444444444444, 0.9984444444444444]}], \"norm_macro_recall\": [{\"categories\": [\"0\", \"1\", \"5\", \"10\", \"14\", \"17\", \"20\", \"24\", \"25\", \"27\", \"28\", \"29\", \"30\", \"31\", \"32\", \"34\", \"35\", \"39\"], \"mode\": \"markers\", \"name\": \"norm_macro_recall\", \"stepped\": false, \"type\": \"scatter\", \"data\": [0.9270238095238096, 0.9270238095238096, 0.9395238095238095, 0.9198809523809525, 0.9261309523809524, 0.927440476190476, 0.9712499999999998, 0.9270238095238096, 0.9612499999999999, 0.9712499999999998, 0.927440476190476, 0.9119642857142857, 0.945, 0.9191071428571428, 0.9712499999999998, 0.9216666666666666, 0.9529166666666666, 0.9649999999999999]}, {\"categories\": [\"0\", \"1\", \"5\", \"10\", \"14\", \"17\", \"20\", \"24\", \"25\", \"27\", \"28\", \"29\", \"30\", \"31\", \"32\", \"34\", \"35\", \"39\"], \"mode\": \"lines\", \"name\": \"norm_macro_recall_max\", \"stepped\": true, \"type\": \"scatter\", \"data\": [0.9270238095238096, 0.9270238095238096, 0.9395238095238095, 0.9395238095238095, 0.9395238095238095, 0.9395238095238095, 0.9712499999999998, 0.9712499999999998, 0.9712499999999998, 0.9712499999999998, 0.9712499999999998, 0.9712499999999998, 0.9712499999999998, 0.9712499999999998, 0.9712499999999998, 0.9712499999999998, 0.9712499999999998, 0.9712499999999998]}], \"f1_score_micro\": [{\"categories\": [\"0\", \"1\", \"5\", \"10\", \"14\", \"17\", \"20\", \"24\", \"25\", \"27\", \"28\", \"29\", \"30\", \"31\", \"32\", \"34\", \"35\", \"39\"], \"mode\": \"markers\", \"name\": \"f1_score_micro\", \"stepped\": false, \"type\": \"scatter\", \"data\": [0.9466666666666667, 0.9466666666666667, 0.9533333333333334, 0.9400000000000001, 0.9466666666666667, 0.9466666666666667, 0.9800000000000001, 0.9466666666666667, 0.9733333333333334, 0.9800000000000001, 0.9466666666666667, 0.9333333333333333, 0.96, 0.9400000000000001, 0.9800000000000001, 0.9466666666666667, 0.9666666666666666, 0.9733333333333333]}, {\"categories\": [\"0\", \"1\", \"5\", \"10\", \"14\", \"17\", \"20\", \"24\", \"25\", \"27\", \"28\", \"29\", \"30\", \"31\", \"32\", \"34\", \"35\", \"39\"], \"mode\": \"lines\", \"name\": \"f1_score_micro_max\", \"stepped\": true, \"type\": \"scatter\", \"data\": [0.9466666666666667, 0.9466666666666667, 0.9533333333333334, 0.9533333333333334, 0.9533333333333334, 0.9533333333333334, 0.9800000000000001, 0.9800000000000001, 0.9800000000000001, 0.9800000000000001, 0.9800000000000001, 0.9800000000000001, 0.9800000000000001, 0.9800000000000001, 0.9800000000000001, 0.9800000000000001, 0.9800000000000001, 0.9800000000000001]}], \"log_loss\": [{\"categories\": [\"0\", \"1\", \"5\", \"10\", \"14\", \"17\", \"20\", \"24\", \"25\", \"27\", \"28\", \"29\", \"30\", \"31\", \"32\", \"34\", \"35\", \"39\"], \"mode\": \"markers\", \"name\": \"log_loss\", \"stepped\": false, \"type\": \"scatter\", \"data\": [0.28756369615465305, 0.23022433064034287, 0.2163931659589077, 0.17510114280122685, 0.31201311413411387, 0.3369968031709632, 0.06702540032732311, 0.21871423772930876, 0.07982630398221215, 0.0688665394735725, 0.28001138423277616, 0.3450664675993077, 0.29581692459965564, 0.28312753858029405, 0.0677608974293035, 0.20067879003844383, 0.20055593120007326, 0.1247180569151191]}, {\"categories\": [\"0\", \"1\", \"5\", \"10\", \"14\", \"17\", \"20\", \"24\", \"25\", \"27\", \"28\", \"29\", \"30\", \"31\", \"32\", \"34\", \"35\", \"39\"], \"mode\": \"lines\", \"name\": \"log_loss_min\", \"stepped\": true, \"type\": \"scatter\", \"data\": [0.28756369615465305, 0.23022433064034287, 0.2163931659589077, 0.17510114280122685, 0.17510114280122685, 0.17510114280122685, 0.06702540032732311, 0.06702540032732311, 0.06702540032732311, 0.06702540032732311, 0.06702540032732311, 0.06702540032732311, 0.06702540032732311, 0.06702540032732311, 0.06702540032732311, 0.06702540032732311, 0.06702540032732311, 0.06702540032732311]}], \"precision_score_micro\": [{\"categories\": [\"0\", \"1\", \"5\", \"10\", \"14\", \"17\", \"20\", \"24\", \"25\", \"27\", \"28\", \"29\", \"30\", \"31\", \"32\", \"34\", \"35\", \"39\"], \"mode\": \"markers\", \"name\": \"precision_score_micro\", \"stepped\": false, \"type\": \"scatter\", \"data\": [0.9466666666666667, 0.9466666666666667, 0.9533333333333334, 0.9400000000000001, 0.9466666666666667, 0.9466666666666667, 0.9800000000000001, 0.9466666666666667, 0.9733333333333334, 0.9800000000000001, 0.9466666666666667, 0.9333333333333333, 0.96, 0.9400000000000001, 0.9800000000000001, 0.9466666666666667, 0.9666666666666666, 0.9733333333333333]}, {\"categories\": [\"0\", \"1\", \"5\", \"10\", \"14\", \"17\", \"20\", \"24\", \"25\", \"27\", \"28\", \"29\", \"30\", \"31\", \"32\", \"34\", \"35\", \"39\"], \"mode\": \"lines\", \"name\": \"precision_score_micro_max\", \"stepped\": true, \"type\": \"scatter\", \"data\": [0.9466666666666667, 0.9466666666666667, 0.9533333333333334, 0.9533333333333334, 0.9533333333333334, 0.9533333333333334, 0.9800000000000001, 0.9800000000000001, 0.9800000000000001, 0.9800000000000001, 0.9800000000000001, 0.9800000000000001, 0.9800000000000001, 0.9800000000000001, 0.9800000000000001, 0.9800000000000001, 0.9800000000000001, 0.9800000000000001]}], \"average_precision_score_macro\": [{\"categories\": [\"0\", \"1\", \"5\", \"10\", \"14\", \"17\", \"20\", \"24\", \"25\", \"27\", \"28\", \"29\", \"30\", \"31\", \"32\", \"34\", \"35\", \"39\"], \"mode\": \"markers\", \"name\": \"average_precision_score_macro\", \"stepped\": false, \"type\": \"scatter\", \"data\": [0.9739414210128496, 0.9751623204837492, 0.984391156462585, 0.9878333333333333, 0.9867403628117914, 0.9889444444444445, 0.9977380952380953, 0.98455291005291, 1.0, 1.0, 0.9880555555555557, 0.9776084656084656, 0.9847826908541194, 0.991484126984127, 1.0, 0.9938888888888888, 0.9898356009070295, 0.9943441479155766]}, {\"categories\": [\"0\", \"1\", \"5\", \"10\", \"14\", \"17\", \"20\", \"24\", \"25\", \"27\", \"28\", \"29\", \"30\", \"31\", \"32\", \"34\", \"35\", \"39\"], \"mode\": \"lines\", \"name\": \"average_precision_score_macro_max\", \"stepped\": true, \"type\": \"scatter\", \"data\": [0.9739414210128496, 0.9751623204837492, 0.984391156462585, 0.9878333333333333, 0.9878333333333333, 0.9889444444444445, 0.9977380952380953, 0.9977380952380953, 1.0, 1.0, 1.0, 1.0, 1.0, 1.0, 1.0, 1.0, 1.0, 1.0]}], \"f1_score_weighted\": [{\"categories\": [\"0\", \"1\", \"5\", \"10\", \"14\", \"17\", \"20\", \"24\", \"25\", \"27\", \"28\", \"29\", \"30\", \"31\", \"32\", \"34\", \"35\", \"39\"], \"mode\": \"markers\", \"name\": \"f1_score_weighted\", \"stepped\": false, \"type\": \"scatter\", \"data\": [0.9477210197210197, 0.9477210197210197, 0.9546416546416546, 0.9412741332741333, 0.9471154031154031, 0.9470095830095829, 0.9802962962962963, 0.9477210197210197, 0.9735622895622896, 0.9802962962962963, 0.9470095830095829, 0.9336738076738076, 0.961054353054353, 0.9401206941206942, 0.9802962962962963, 0.9472472712472714, 0.9668956228956229, 0.9744550264550265]}, {\"categories\": [\"0\", \"1\", \"5\", \"10\", \"14\", \"17\", \"20\", \"24\", \"25\", \"27\", \"28\", \"29\", \"30\", \"31\", \"32\", \"34\", \"35\", \"39\"], \"mode\": \"lines\", \"name\": \"f1_score_weighted_max\", \"stepped\": true, \"type\": \"scatter\", \"data\": [0.9477210197210197, 0.9477210197210197, 0.9546416546416546, 0.9546416546416546, 0.9546416546416546, 0.9546416546416546, 0.9802962962962963, 0.9802962962962963, 0.9802962962962963, 0.9802962962962963, 0.9802962962962963, 0.9802962962962963, 0.9802962962962963, 0.9802962962962963, 0.9802962962962963, 0.9802962962962963, 0.9802962962962963, 0.9802962962962963]}], \"balanced_accuracy\": [{\"categories\": [\"0\", \"1\", \"5\", \"10\", \"14\", \"17\", \"20\", \"24\", \"25\", \"27\", \"28\", \"29\", \"30\", \"31\", \"32\", \"34\", \"35\", \"39\"], \"mode\": \"markers\", \"name\": \"balanced_accuracy\", \"stepped\": false, \"type\": \"scatter\", \"data\": [0.9513492063492063, 0.9513492063492063, 0.9596825396825397, 0.9465873015873015, 0.9507539682539683, 0.9516269841269841, 0.9808333333333333, 0.9513492063492063, 0.9741666666666667, 0.9808333333333333, 0.9516269841269841, 0.9413095238095238, 0.9633333333333333, 0.9460714285714286, 0.9808333333333333, 0.9477777777777778, 0.9686111111111112, 0.9766666666666666]}, {\"categories\": [\"0\", \"1\", \"5\", \"10\", \"14\", \"17\", \"20\", \"24\", \"25\", \"27\", \"28\", \"29\", \"30\", \"31\", \"32\", \"34\", \"35\", \"39\"], \"mode\": \"lines\", \"name\": \"balanced_accuracy_max\", \"stepped\": true, \"type\": \"scatter\", \"data\": [0.9513492063492063, 0.9513492063492063, 0.9596825396825397, 0.9596825396825397, 0.9596825396825397, 0.9596825396825397, 0.9808333333333333, 0.9808333333333333, 0.9808333333333333, 0.9808333333333333, 0.9808333333333333, 0.9808333333333333, 0.9808333333333333, 0.9808333333333333, 0.9808333333333333, 0.9808333333333333, 0.9808333333333333, 0.9808333333333333]}], \"accuracy\": [{\"categories\": [\"0\", \"1\", \"5\", \"10\", \"14\", \"17\", \"20\", \"24\", \"25\", \"27\", \"28\", \"29\", \"30\", \"31\", \"32\", \"34\", \"35\", \"39\"], \"mode\": \"markers\", \"name\": \"accuracy\", \"stepped\": false, \"type\": \"scatter\", \"data\": [0.9466666666666667, 0.9466666666666667, 0.9533333333333334, 0.9400000000000001, 0.9466666666666667, 0.9466666666666667, 0.9800000000000001, 0.9466666666666667, 0.9733333333333334, 0.9800000000000001, 0.9466666666666667, 0.9333333333333333, 0.96, 0.9400000000000001, 0.9800000000000001, 0.9466666666666667, 0.9666666666666666, 0.9733333333333333]}, {\"categories\": [\"0\", \"1\", \"5\", \"10\", \"14\", \"17\", \"20\", \"24\", \"25\", \"27\", \"28\", \"29\", \"30\", \"31\", \"32\", \"34\", \"35\", \"39\"], \"mode\": \"lines\", \"name\": \"accuracy_max\", \"stepped\": true, \"type\": \"scatter\", \"data\": [0.9466666666666667, 0.9466666666666667, 0.9533333333333334, 0.9533333333333334, 0.9533333333333334, 0.9533333333333334, 0.9800000000000001, 0.9800000000000001, 0.9800000000000001, 0.9800000000000001, 0.9800000000000001, 0.9800000000000001, 0.9800000000000001, 0.9800000000000001, 0.9800000000000001, 0.9800000000000001, 0.9800000000000001, 0.9800000000000001]}], \"recall_score_weighted\": [{\"categories\": [\"0\", \"1\", \"5\", \"10\", \"14\", \"17\", \"20\", \"24\", \"25\", \"27\", \"28\", \"29\", \"30\", \"31\", \"32\", \"34\", \"35\", \"39\"], \"mode\": \"markers\", \"name\": \"recall_score_weighted\", \"stepped\": false, \"type\": \"scatter\", \"data\": [0.9466666666666667, 0.9466666666666667, 0.9533333333333334, 0.9400000000000001, 0.9466666666666667, 0.9466666666666667, 0.9800000000000001, 0.9466666666666667, 0.9733333333333334, 0.9800000000000001, 0.9466666666666667, 0.9333333333333333, 0.96, 0.9400000000000001, 0.9800000000000001, 0.9466666666666667, 0.9666666666666666, 0.9733333333333333]}, {\"categories\": [\"0\", \"1\", \"5\", \"10\", \"14\", \"17\", \"20\", \"24\", \"25\", \"27\", \"28\", \"29\", \"30\", \"31\", \"32\", \"34\", \"35\", \"39\"], \"mode\": \"lines\", \"name\": \"recall_score_weighted_max\", \"stepped\": true, \"type\": \"scatter\", \"data\": [0.9466666666666667, 0.9466666666666667, 0.9533333333333334, 0.9533333333333334, 0.9533333333333334, 0.9533333333333334, 0.9800000000000001, 0.9800000000000001, 0.9800000000000001, 0.9800000000000001, 0.9800000000000001, 0.9800000000000001, 0.9800000000000001, 0.9800000000000001, 0.9800000000000001, 0.9800000000000001, 0.9800000000000001, 0.9800000000000001]}], \"average_precision_score_micro\": [{\"categories\": [\"0\", \"1\", \"5\", \"10\", \"14\", \"17\", \"20\", \"24\", \"25\", \"27\", \"28\", \"29\", \"30\", \"31\", \"32\", \"34\", \"35\", \"39\"], \"mode\": \"markers\", \"name\": \"average_precision_score_micro\", \"stepped\": false, \"type\": \"scatter\", \"data\": [0.9766032072502663, 0.9707440641217542, 0.9756792896645837, 0.9893571608130431, 0.9847800940889175, 0.990495054567036, 0.9963228291316526, 0.9861193697370169, 0.996718253968254, 0.9971349206349206, 0.9880968720821661, 0.9827114770334584, 0.9911146125116714, 0.9879491309344249, 0.9971349206349206, 0.9901039777216247, 0.9930623249299719, 0.9888191341389015]}, {\"categories\": [\"0\", \"1\", \"5\", \"10\", \"14\", \"17\", \"20\", \"24\", \"25\", \"27\", \"28\", \"29\", \"30\", \"31\", \"32\", \"34\", \"35\", \"39\"], \"mode\": \"lines\", \"name\": \"average_precision_score_micro_max\", \"stepped\": true, \"type\": \"scatter\", \"data\": [0.9766032072502663, 0.9766032072502663, 0.9766032072502663, 0.9893571608130431, 0.9893571608130431, 0.990495054567036, 0.9963228291316526, 0.9963228291316526, 0.996718253968254, 0.9971349206349206, 0.9971349206349206, 0.9971349206349206, 0.9971349206349206, 0.9971349206349206, 0.9971349206349206, 0.9971349206349206, 0.9971349206349206, 0.9971349206349206]}], \"weighted_accuracy\": [{\"categories\": [\"0\", \"1\", \"5\", \"10\", \"14\", \"17\", \"20\", \"24\", \"25\", \"27\", \"28\", \"29\", \"30\", \"31\", \"32\", \"34\", \"35\", \"39\"], \"mode\": \"markers\", \"name\": \"weighted_accuracy\", \"stepped\": false, \"type\": \"scatter\", \"data\": [0.9437942095617962, 0.9437942095617962, 0.9487324811667344, 0.935360474622037, 0.9439626251596713, 0.9430489174186544, 0.9804354814718852, 0.9437942095617962, 0.9737688148052186, 0.9804354814718852, 0.9430489174186544, 0.9268229746866876, 0.9586731577740777, 0.9352567096264467, 0.9804354814718852, 0.9472413796756328, 0.9659766070130107, 0.9718333309342508]}, {\"categories\": [\"0\", \"1\", \"5\", \"10\", \"14\", \"17\", \"20\", \"24\", \"25\", \"27\", \"28\", \"29\", \"30\", \"31\", \"32\", \"34\", \"35\", \"39\"], \"mode\": \"lines\", \"name\": \"weighted_accuracy_max\", \"stepped\": true, \"type\": \"scatter\", \"data\": [0.9437942095617962, 0.9437942095617962, 0.9487324811667344, 0.9487324811667344, 0.9487324811667344, 0.9487324811667344, 0.9804354814718852, 0.9804354814718852, 0.9804354814718852, 0.9804354814718852, 0.9804354814718852, 0.9804354814718852, 0.9804354814718852, 0.9804354814718852, 0.9804354814718852, 0.9804354814718852, 0.9804354814718852, 0.9804354814718852]}], \"precision_score_weighted\": [{\"categories\": [\"0\", \"1\", \"5\", \"10\", \"14\", \"17\", \"20\", \"24\", \"25\", \"27\", \"28\", \"29\", \"30\", \"31\", \"32\", \"34\", \"35\", \"39\"], \"mode\": \"markers\", \"name\": \"precision_score_weighted\", \"stepped\": false, \"type\": \"scatter\", \"data\": [0.9580555555555555, 0.9580555555555555, 0.9638888888888889, 0.9530555555555555, 0.9552777777777777, 0.957388888888889, 0.9847222222222222, 0.9580555555555555, 0.9791666666666666, 0.9847222222222222, 0.957388888888889, 0.948420634920635, 0.9716111111111111, 0.953420634920635, 0.9847222222222222, 0.9598412698412698, 0.9736111111111111, 0.9824999999999999]}, {\"categories\": [\"0\", \"1\", \"5\", \"10\", \"14\", \"17\", \"20\", \"24\", \"25\", \"27\", \"28\", \"29\", \"30\", \"31\", \"32\", \"34\", \"35\", \"39\"], \"mode\": \"lines\", \"name\": \"precision_score_weighted_max\", \"stepped\": true, \"type\": \"scatter\", \"data\": [0.9580555555555555, 0.9580555555555555, 0.9638888888888889, 0.9638888888888889, 0.9638888888888889, 0.9638888888888889, 0.9847222222222222, 0.9847222222222222, 0.9847222222222222, 0.9847222222222222, 0.9847222222222222, 0.9847222222222222, 0.9847222222222222, 0.9847222222222222, 0.9847222222222222, 0.9847222222222222, 0.9847222222222222, 0.9847222222222222]}], \"f1_score_macro\": [{\"categories\": [\"0\", \"1\", \"5\", \"10\", \"14\", \"17\", \"20\", \"24\", \"25\", \"27\", \"28\", \"29\", \"30\", \"31\", \"32\", \"34\", \"35\", \"39\"], \"mode\": \"markers\", \"name\": \"f1_score_macro\", \"stepped\": false, \"type\": \"scatter\", \"data\": [0.9427873977873977, 0.9427873977873977, 0.9497715247715247, 0.9354613904613904, 0.9424455174455174, 0.9431309431309431, 0.9756613756613757, 0.9427873977873977, 0.9689273689273689, 0.9756613756613757, 0.9431309431309431, 0.9296433196433197, 0.9545358345358345, 0.936969326969327, 0.9756613756613757, 0.9415725015725016, 0.9628667628667629, 0.9686772486772487]}, {\"categories\": [\"0\", \"1\", \"5\", \"10\", \"14\", \"17\", \"20\", \"24\", \"25\", \"27\", \"28\", \"29\", \"30\", \"31\", \"32\", \"34\", \"35\", \"39\"], \"mode\": \"lines\", \"name\": \"f1_score_macro_max\", \"stepped\": true, \"type\": \"scatter\", \"data\": [0.9427873977873977, 0.9427873977873977, 0.9497715247715247, 0.9497715247715247, 0.9497715247715247, 0.9497715247715247, 0.9756613756613757, 0.9756613756613757, 0.9756613756613757, 0.9756613756613757, 0.9756613756613757, 0.9756613756613757, 0.9756613756613757, 0.9756613756613757, 0.9756613756613757, 0.9756613756613757, 0.9756613756613757, 0.9756613756613757]}], \"AUC_weighted\": [{\"categories\": [\"0\", \"1\", \"5\", \"10\", \"14\", \"17\", \"20\", \"24\", \"25\", \"27\", \"28\", \"29\", \"30\", \"31\", \"32\", \"34\", \"35\", \"39\"], \"mode\": \"markers\", \"name\": \"AUC_weighted\", \"stepped\": false, \"type\": \"scatter\", \"data\": [0.9818080808080809, 0.9836683501683503, 0.9917878787878788, 0.9940656565656566, 0.9909031986531988, 0.9959737114737115, 0.9985606060606061, 0.9920050505050506, 1.0, 1.0, 0.9939915824915826, 0.9888782328782328, 0.9934040404040404, 0.994412457912458, 1.0, 0.9974444444444444, 0.9945656565656564, 0.9923593073593073]}, {\"categories\": [\"0\", \"1\", \"5\", \"10\", \"14\", \"17\", \"20\", \"24\", \"25\", \"27\", \"28\", \"29\", \"30\", \"31\", \"32\", \"34\", \"35\", \"39\"], \"mode\": \"lines\", \"name\": \"AUC_weighted_max\", \"stepped\": true, \"type\": \"scatter\", \"data\": [0.9818080808080809, 0.9836683501683503, 0.9917878787878788, 0.9940656565656566, 0.9940656565656566, 0.9959737114737115, 0.9985606060606061, 0.9985606060606061, 1.0, 1.0, 1.0, 1.0, 1.0, 1.0, 1.0, 1.0, 1.0, 1.0]}], \"precision_score_macro\": [{\"categories\": [\"0\", \"1\", \"5\", \"10\", \"14\", \"17\", \"20\", \"24\", \"25\", \"27\", \"28\", \"29\", \"30\", \"31\", \"32\", \"34\", \"35\", \"39\"], \"mode\": \"markers\", \"name\": \"precision_score_macro\", \"stepped\": false, \"type\": \"scatter\", \"data\": [0.9466269841269842, 0.9466269841269842, 0.9507936507936507, 0.9382936507936508, 0.9438492063492063, 0.9463888888888888, 0.976388888888889, 0.9466269841269842, 0.9708333333333334, 0.976388888888889, 0.9463888888888888, 0.9340873015873015, 0.9586111111111112, 0.9424206349206349, 0.976388888888889, 0.950793650793651, 0.9652777777777779, 0.9708333333333334]}, {\"categories\": [\"0\", \"1\", \"5\", \"10\", \"14\", \"17\", \"20\", \"24\", \"25\", \"27\", \"28\", \"29\", \"30\", \"31\", \"32\", \"34\", \"35\", \"39\"], \"mode\": \"lines\", \"name\": \"precision_score_macro_max\", \"stepped\": true, \"type\": \"scatter\", \"data\": [0.9466269841269842, 0.9466269841269842, 0.9507936507936507, 0.9507936507936507, 0.9507936507936507, 0.9507936507936507, 0.976388888888889, 0.976388888888889, 0.976388888888889, 0.976388888888889, 0.976388888888889, 0.976388888888889, 0.976388888888889, 0.976388888888889, 0.976388888888889, 0.976388888888889, 0.976388888888889, 0.976388888888889]}], \"matthews_correlation\": [{\"categories\": [\"0\", \"1\", \"5\", \"10\", \"14\", \"17\", \"20\", \"24\", \"25\", \"27\", \"28\", \"29\", \"30\", \"31\", \"32\", \"34\", \"35\", \"39\"], \"mode\": \"markers\", \"name\": \"matthews_correlation\", \"stepped\": false, \"type\": \"scatter\", \"data\": [0.9221238703798921, 0.9221238703798921, 0.9320871131800749, 0.912488040762421, 0.9207670733813546, 0.9227367604311866, 0.970089628337725, 0.9221238703798921, 0.9606956957916184, 0.970089628337725, 0.9227367604311866, 0.9047598839258535, 0.9429572037132253, 0.9143957135433245, 0.970089628337725, 0.9233581312955714, 0.9512362363321589, 0.9618105957187915]}, {\"categories\": [\"0\", \"1\", \"5\", \"10\", \"14\", \"17\", \"20\", \"24\", \"25\", \"27\", \"28\", \"29\", \"30\", \"31\", \"32\", \"34\", \"35\", \"39\"], \"mode\": \"lines\", \"name\": \"matthews_correlation_max\", \"stepped\": true, \"type\": \"scatter\", \"data\": [0.9221238703798921, 0.9221238703798921, 0.9320871131800749, 0.9320871131800749, 0.9320871131800749, 0.9320871131800749, 0.970089628337725, 0.970089628337725, 0.970089628337725, 0.970089628337725, 0.970089628337725, 0.970089628337725, 0.970089628337725, 0.970089628337725, 0.970089628337725, 0.970089628337725, 0.970089628337725, 0.970089628337725]}], \"recall_score_micro\": [{\"categories\": [\"0\", \"1\", \"5\", \"10\", \"14\", \"17\", \"20\", \"24\", \"25\", \"27\", \"28\", \"29\", \"30\", \"31\", \"32\", \"34\", \"35\", \"39\"], \"mode\": \"markers\", \"name\": \"recall_score_micro\", \"stepped\": false, \"type\": \"scatter\", \"data\": [0.9466666666666667, 0.9466666666666667, 0.9533333333333334, 0.9400000000000001, 0.9466666666666667, 0.9466666666666667, 0.9800000000000001, 0.9466666666666667, 0.9733333333333334, 0.9800000000000001, 0.9466666666666667, 0.9333333333333333, 0.96, 0.9400000000000001, 0.9800000000000001, 0.9466666666666667, 0.9666666666666666, 0.9733333333333333]}, {\"categories\": [\"0\", \"1\", \"5\", \"10\", \"14\", \"17\", \"20\", \"24\", \"25\", \"27\", \"28\", \"29\", \"30\", \"31\", \"32\", \"34\", \"35\", \"39\"], \"mode\": \"lines\", \"name\": \"recall_score_micro_max\", \"stepped\": true, \"type\": \"scatter\", \"data\": [0.9466666666666667, 0.9466666666666667, 0.9533333333333334, 0.9533333333333334, 0.9533333333333334, 0.9533333333333334, 0.9800000000000001, 0.9800000000000001, 0.9800000000000001, 0.9800000000000001, 0.9800000000000001, 0.9800000000000001, 0.9800000000000001, 0.9800000000000001, 0.9800000000000001, 0.9800000000000001, 0.9800000000000001, 0.9800000000000001]}], \"AUC_macro\": [{\"categories\": [\"0\", \"1\", \"5\", \"10\", \"14\", \"17\", \"20\", \"24\", \"25\", \"27\", \"28\", \"29\", \"30\", \"31\", \"32\", \"34\", \"35\", \"39\"], \"mode\": \"markers\", \"name\": \"AUC_macro\", \"stepped\": false, \"type\": \"scatter\", \"data\": [0.9826979316979317, 0.9839000320666986, 0.991961038961039, 0.9936303511303513, 0.991113235529902, 0.9954145175811842, 0.9986471861471861, 0.9917212602212603, 1.0, 1.0, 0.9936797338464004, 0.9886393051393052, 0.9926849446849447, 0.9947459515792849, 1.0, 0.9970740740740741, 0.9943684463684465, 0.9943181818181819]}, {\"categories\": [\"0\", \"1\", \"5\", \"10\", \"14\", \"17\", \"20\", \"24\", \"25\", \"27\", \"28\", \"29\", \"30\", \"31\", \"32\", \"34\", \"35\", \"39\"], \"mode\": \"lines\", \"name\": \"AUC_macro_max\", \"stepped\": true, \"type\": \"scatter\", \"data\": [0.9826979316979317, 0.9839000320666986, 0.991961038961039, 0.9936303511303513, 0.9936303511303513, 0.9954145175811842, 0.9986471861471861, 0.9986471861471861, 1.0, 1.0, 1.0, 1.0, 1.0, 1.0, 1.0, 1.0, 1.0, 1.0]}], \"average_precision_score_weighted\": [{\"categories\": [\"0\", \"1\", \"5\", \"10\", \"14\", \"17\", \"20\", \"24\", \"25\", \"27\", \"28\", \"29\", \"30\", \"31\", \"32\", \"34\", \"35\", \"39\"], \"mode\": \"markers\", \"name\": \"average_precision_score_weighted\", \"stepped\": false, \"type\": \"scatter\", \"data\": [0.9722513227513228, 0.9758359788359788, 0.9844365079365079, 0.9892619047619048, 0.9857063492063493, 0.9922142857142857, 0.9978333333333333, 0.9857592592592592, 1.0, 1.0, 0.9894365079365078, 0.9815291005291005, 0.9877539682539682, 0.9912619047619048, 1.0, 0.9949999999999999, 0.9909920634920635, 0.993427960927961]}, {\"categories\": [\"0\", \"1\", \"5\", \"10\", \"14\", \"17\", \"20\", \"24\", \"25\", \"27\", \"28\", \"29\", \"30\", \"31\", \"32\", \"34\", \"35\", \"39\"], \"mode\": \"lines\", \"name\": \"average_precision_score_weighted_max\", \"stepped\": true, \"type\": \"scatter\", \"data\": [0.9722513227513228, 0.9758359788359788, 0.9844365079365079, 0.9892619047619048, 0.9892619047619048, 0.9922142857142857, 0.9978333333333333, 0.9978333333333333, 1.0, 1.0, 1.0, 1.0, 1.0, 1.0, 1.0, 1.0, 1.0, 1.0]}], \"recall_score_macro\": [{\"categories\": [\"0\", \"1\", \"5\", \"10\", \"14\", \"17\", \"20\", \"24\", \"25\", \"27\", \"28\", \"29\", \"30\", \"31\", \"32\", \"34\", \"35\", \"39\"], \"mode\": \"markers\", \"name\": \"recall_score_macro\", \"stepped\": false, \"type\": \"scatter\", \"data\": [0.9513492063492063, 0.9513492063492063, 0.9596825396825397, 0.9465873015873015, 0.9507539682539683, 0.9516269841269841, 0.9808333333333333, 0.9513492063492063, 0.9741666666666667, 0.9808333333333333, 0.9516269841269841, 0.9413095238095238, 0.9633333333333333, 0.9460714285714286, 0.9808333333333333, 0.9477777777777778, 0.9686111111111112, 0.9766666666666666]}, {\"categories\": [\"0\", \"1\", \"5\", \"10\", \"14\", \"17\", \"20\", \"24\", \"25\", \"27\", \"28\", \"29\", \"30\", \"31\", \"32\", \"34\", \"35\", \"39\"], \"mode\": \"lines\", \"name\": \"recall_score_macro_max\", \"stepped\": true, \"type\": \"scatter\", \"data\": [0.9513492063492063, 0.9513492063492063, 0.9596825396825397, 0.9596825396825397, 0.9596825396825397, 0.9596825396825397, 0.9808333333333333, 0.9808333333333333, 0.9808333333333333, 0.9808333333333333, 0.9808333333333333, 0.9808333333333333, 0.9808333333333333, 0.9808333333333333, 0.9808333333333333, 0.9808333333333333, 0.9808333333333333, 0.9808333333333333]}]}, \"metricName\": null, \"primaryMetricName\": \"accuracy\", \"showLegend\": false}, \"run_metrics\": [{\"name\": \"experiment_status\", \"run_id\": \"AutoML_9366a451-deed-4246-8e0e-47eb76edbb39\", \"categories\": [0, 1, 2, 3, 4, 5, 6, 7, 8, 9, 10, 11, 12, 13], \"series\": [{\"data\": [\"DatasetEvaluation\", \"FeaturesGeneration\", \"DatasetFeaturization\", \"DatasetFeaturizationCompleted\", \"DatasetCrossValidationSplit\", \"ModelSelection\", \"BestRunExplainModel\", \"ModelExplanationDataSetSetup\", \"PickSurrogateModel\", \"EngineeredFeatureExplanations\", \"EngineeredFeatureExplanations\", \"RawFeaturesExplanations\", \"RawFeaturesExplanations\", \"BestRunExplainModel\"]}]}, {\"name\": \"experiment_status_description\", \"run_id\": \"AutoML_9366a451-deed-4246-8e0e-47eb76edbb39\", \"categories\": [0, 1, 2, 3, 4, 5, 6, 7, 8, 9, 10, 11, 12, 13], \"series\": [{\"data\": [\"Gathering dataset statistics.\", \"Generating features for the dataset.\", \"Beginning to fit featurizers and featurize the dataset.\", \"Completed fit featurizers and featurizing the dataset.\", \"Generating individually featurized CV splits.\", \"Beginning model selection.\", \"Best run model explanations started\", \"Model explanations data setup completed\", \"Choosing LightGBM as the surrogate model for explanations\", \"Computation of engineered features started\", \"Computation of engineered features completed\", \"Computation of raw features started\", \"Computation of raw features completed\", \"Best run model explanations completed\"]}]}], \"run_logs\": \"\\nRun is completed.\", \"graph\": {}, \"widget_settings\": {\"childWidgetDisplay\": \"popup\", \"send_telemetry\": false, \"log_level\": \"INFO\", \"sdk_version\": \"1.51.0\"}, \"loading\": false}"
     },
     "metadata": {},
     "output_type": "display_data"
    }
   ],
   "source": [
    "from azureml.widgets import RunDetails\n",
    "RunDetails(remote_run).show()"
   ]
  },
  {
   "cell_type": "code",
   "execution_count": 9,
   "metadata": {
    "collapsed": false,
    "gather": {
     "logged": 1703928372938
    },
    "jupyter": {
     "outputs_hidden": false,
     "source_hidden": false
    },
    "nteract": {
     "transient": {
      "deleting": false
     }
    }
   },
   "outputs": [
    {
     "data": {
      "text/plain": [
       "{'runId': 'AutoML_9366a451-deed-4246-8e0e-47eb76edbb39',\n",
       " 'target': 'notebook247476',\n",
       " 'status': 'Completed',\n",
       " 'startTimeUtc': '2023-12-31T13:54:43.352727Z',\n",
       " 'endTimeUtc': '2023-12-31T14:03:47.872165Z',\n",
       " 'services': {},\n",
       " 'warnings': [{'source': 'JasmineService',\n",
       "   'message': 'No scores improved over last 10 iterations, so experiment stopped early. This early stopping behavior can be disabled by setting enable_early_stopping = False in AutoMLConfig for notebook/python SDK runs.'}],\n",
       " 'properties': {'num_iterations': '1000',\n",
       "  'training_type': 'TrainFull',\n",
       "  'acquisition_function': 'EI',\n",
       "  'primary_metric': 'accuracy',\n",
       "  'train_split': '0',\n",
       "  'acquisition_parameter': '0',\n",
       "  'num_cross_validation': None,\n",
       "  'target': 'notebook247476',\n",
       "  'AMLSettingsJsonString': '{\"path\":null,\"name\":\"final-experiment\",\"subscription_id\":\"cdbe0b43-92a0-4715-838a-f2648cc7ad21\",\"resource_group\":\"aml-quickstarts-247476\",\"workspace_name\":\"quick-starts-ws-247476\",\"region\":\"southcentralus\",\"compute_target\":\"notebook247476\",\"spark_service\":null,\"azure_service\":\"remote\",\"many_models\":false,\"pipeline_fetch_max_batch_size\":1,\"enable_batch_run\":true,\"enable_parallel_run\":false,\"num_procs\":null,\"enable_run_restructure\":false,\"start_auxiliary_runs_before_parent_complete\":false,\"enable_code_generation\":true,\"iterations\":1000,\"primary_metric\":\"accuracy\",\"task_type\":\"classification\",\"positive_label\":null,\"data_script\":null,\"test_size\":0.0,\"test_include_predictions_only\":false,\"validation_size\":0.0,\"n_cross_validations\":null,\"y_min\":null,\"y_max\":null,\"num_classes\":null,\"featurization\":\"auto\",\"_ignore_package_version_incompatibilities\":false,\"is_timeseries\":false,\"max_cores_per_iteration\":1,\"max_concurrent_iterations\":5,\"iteration_timeout_minutes\":null,\"mem_in_mb\":null,\"enforce_time_on_windows\":false,\"experiment_timeout_minutes\":20,\"experiment_exit_score\":null,\"partition_column_names\":null,\"whitelist_models\":null,\"blacklist_algos\":[\"TensorFlowLinearClassifier\",\"TensorFlowDNN\"],\"supported_models\":[\"BernoulliNaiveBayes\",\"KNN\",\"GradientBoosting\",\"LightGBM\",\"TensorFlowLinearClassifier\",\"SVM\",\"XGBoostClassifier\",\"LinearSVM\",\"DecisionTree\",\"TabnetClassifier\",\"AveragedPerceptronClassifier\",\"LogisticRegression\",\"ExtremeRandomTrees\",\"RandomForest\",\"MultinomialNaiveBayes\",\"TensorFlowDNN\",\"SGD\"],\"private_models\":[],\"auto_blacklist\":true,\"blacklist_samples_reached\":false,\"exclude_nan_labels\":true,\"verbosity\":20,\"_debug_log\":\"azureml_automl.log\",\"show_warnings\":false,\"model_explainability\":true,\"service_url\":null,\"sdk_url\":null,\"sdk_packages\":null,\"enable_onnx_compatible_models\":false,\"enable_split_onnx_featurizer_estimator_models\":false,\"vm_type\":\"STANDARD_DS3_V2\",\"telemetry_verbosity\":20,\"send_telemetry\":true,\"enable_dnn\":false,\"scenario\":\"AutoML\",\"environment_label\":null,\"save_mlflow\":false,\"enable_categorical_indicators\":false,\"force_text_dnn\":false,\"enable_feature_sweeping\":true,\"enable_early_stopping\":true,\"early_stopping_n_iters\":10,\"arguments\":null,\"dataset_id\":\"57a86567-c595-4435-95e3-d2bc0c3cef46\",\"hyperdrive_config\":null,\"validation_dataset_id\":null,\"run_source\":null,\"metrics\":null,\"enable_metric_confidence\":false,\"enable_ensembling\":true,\"enable_stack_ensembling\":true,\"ensemble_iterations\":15,\"enable_tf\":false,\"enable_subsampling\":null,\"subsample_seed\":null,\"enable_nimbusml\":false,\"enable_streaming\":false,\"force_streaming\":false,\"track_child_runs\":true,\"n_best_runs\":1,\"allowed_private_models\":[],\"label_column_name\":\"Species\",\"weight_column_name\":null,\"cv_split_column_names\":null,\"enable_local_managed\":false,\"_local_managed_run_id\":null,\"cost_mode\":1,\"lag_length\":0,\"metric_operation\":\"maximize\",\"preprocess\":true}',\n",
       "  'DataPrepJsonString': '{\\\\\"training_data\\\\\": {\\\\\"datasetId\\\\\": \\\\\"57a86567-c595-4435-95e3-d2bc0c3cef46\\\\\"}, \\\\\"datasets\\\\\": 0}',\n",
       "  'EnableSubsampling': None,\n",
       "  'runTemplate': 'AutoML',\n",
       "  'azureml.runsource': 'automl',\n",
       "  'display_task_type': 'classification',\n",
       "  'dependencies_versions': '{\"azureml-dataprep-native\": \"38.0.0\", \"azureml-dataprep\": \"4.10.8\", \"azureml-dataprep-rslex\": \"2.17.12\", \"azureml-train-automl-runtime\": \"1.51.0.post2\", \"azureml-train-automl-client\": \"1.51.0.post1\", \"azureml-training-tabular\": \"1.51.0.post1\", \"azureml-automl-runtime\": \"1.51.0.post1\", \"azureml-automl-core\": \"1.51.0.post1\", \"azureml-mlflow\": \"1.51.0\", \"azureml-datadrift\": \"1.51.0\", \"azureml-pipeline\": \"1.51.0\", \"azureml-contrib-dataset\": \"1.51.0\", \"azureml-contrib-notebook\": \"1.51.0\", \"azureml-accel-models\": \"1.51.0\", \"azureml-automl-dnn-nlp\": \"1.51.0\", \"azureml-pipeline-core\": \"1.51.0\", \"azureml-responsibleai\": \"1.51.0\", \"azureml-contrib-automl-pipeline-steps\": \"1.51.0\", \"azureml-pipeline-steps\": \"1.51.0\", \"azureml-core\": \"1.51.0\", \"azureml-contrib-reinforcementlearning\": \"1.51.0\", \"azureml-contrib-server\": \"1.51.0\", \"azureml-opendatasets\": \"1.51.0\", \"azureml-contrib-services\": \"1.51.0\", \"azureml-telemetry\": \"1.51.0\", \"azureml-train-restclients-hyperdrive\": \"1.51.0\", \"azureml-interpret\": \"1.51.0\", \"azureml-train-core\": \"1.51.0\", \"azureml-tensorboard\": \"1.51.0\", \"azureml-train\": \"1.51.0\", \"azureml-contrib-pipeline-steps\": \"1.51.0\", \"azureml-explain-model\": \"1.51.0\", \"azureml-cli-common\": \"1.51.0\", \"azureml-widgets\": \"1.51.0\", \"azureml-train-automl\": \"1.51.0\", \"azureml-defaults\": \"1.51.0\", \"azureml-contrib-fairness\": \"1.51.0\", \"azureml-sdk\": \"1.51.0\", \"azureml-dataset-runtime\": \"1.51.0\", \"azureml-inference-server-http\": \"0.8.4\"}',\n",
       "  '_aml_system_scenario_identification': 'Remote.Parent',\n",
       "  'ClientType': 'SDK',\n",
       "  'PlatformVersion': 'DPV1',\n",
       "  'environment_cpu_name': 'AzureML-AutoML',\n",
       "  'environment_cpu_label': 'scikit-upgrade2',\n",
       "  'environment_gpu_name': 'AzureML-AutoML-GPU',\n",
       "  'environment_gpu_label': 'scikit-upgrade2',\n",
       "  'root_attribution': 'automl',\n",
       "  'attribution': 'AutoML',\n",
       "  'Orchestrator': 'AutoML',\n",
       "  'CancelUri': 'https://southcentralus.api.azureml.ms/jasmine/v1.0/subscriptions/cdbe0b43-92a0-4715-838a-f2648cc7ad21/resourceGroups/aml-quickstarts-247476/providers/Microsoft.MachineLearningServices/workspaces/quick-starts-ws-247476/experimentids/b2d67d92-a5a3-4a68-b81b-04a53cad2aa8/cancel/AutoML_9366a451-deed-4246-8e0e-47eb76edbb39',\n",
       "  'ClientSdkVersion': None,\n",
       "  'snapshotId': '00000000-0000-0000-0000-000000000000',\n",
       "  'SetupRunId': 'AutoML_9366a451-deed-4246-8e0e-47eb76edbb39_setup',\n",
       "  'SetupRunContainerId': 'dcid.AutoML_9366a451-deed-4246-8e0e-47eb76edbb39_setup',\n",
       "  'FeaturizationRunJsonPath': 'featurizer_container.json',\n",
       "  'FeaturizationRunId': 'AutoML_9366a451-deed-4246-8e0e-47eb76edbb39_featurize',\n",
       "  'ProblemInfoJsonString': '{\"dataset_num_categorical\": 0, \"is_sparse\": false, \"subsampling\": false, \"has_extra_col\": true, \"dataset_classes\": 3, \"dataset_features\": 4, \"dataset_samples\": 150, \"single_frequency_class_detected\": false}',\n",
       "  'ModelExplainRunId': 'AutoML_9366a451-deed-4246-8e0e-47eb76edbb39_ModelExplain'},\n",
       " 'inputDatasets': [{'dataset': {'id': '57a86567-c595-4435-95e3-d2bc0c3cef46'}, 'consumptionDetails': {'type': 'RunInput', 'inputName': 'training_data', 'mechanism': 'Direct'}}],\n",
       " 'outputDatasets': [{'identifier': {'savedId': '4a9cff45-e48f-416d-95a5-7f95bd383d30'},\n",
       "   'outputType': 'RunOutput',\n",
       "   'outputDetails': {'outputName': 'full_training_dataset'},\n",
       "   'dataset': {\n",
       "     \"source\": [\n",
       "       \"('workspaceartifactstore', 'ExperimentRun/dcid.AutoML_9366a451-deed-4246-8e0e-47eb76edbb39/outputs/featurization/data/full_training_dataset.df.parquet')\"\n",
       "     ],\n",
       "     \"definition\": [\n",
       "       \"GetDatastoreFiles\",\n",
       "       \"ReadParquetFile\",\n",
       "       \"DropColumns\"\n",
       "     ],\n",
       "     \"registration\": {\n",
       "       \"id\": \"4a9cff45-e48f-416d-95a5-7f95bd383d30\",\n",
       "       \"name\": null,\n",
       "       \"version\": null,\n",
       "       \"workspace\": \"Workspace.create(name='quick-starts-ws-247476', subscription_id='cdbe0b43-92a0-4715-838a-f2648cc7ad21', resource_group='aml-quickstarts-247476')\"\n",
       "     }\n",
       "   }}],\n",
       " 'logFiles': {},\n",
       " 'submittedBy': 'ODL_User 247476'}"
      ]
     },
     "execution_count": 9,
     "metadata": {},
     "output_type": "execute_result"
    }
   ],
   "source": [
    "remote_run.wait_for_completion(show_output=False)"
   ]
  },
  {
   "cell_type": "markdown",
   "metadata": {},
   "source": [
    "## Best Model\n",
    "\n",
    "TODO: In the cell below, get the best model from the automl experiments and display all the properties of the model.\n",
    "\n"
   ]
  },
  {
   "cell_type": "code",
   "execution_count": 11,
   "metadata": {
    "collapsed": false,
    "gather": {
     "logged": 1703928376865
    },
    "jupyter": {
     "outputs_hidden": false,
     "source_hidden": false
    },
    "nteract": {
     "transient": {
      "deleting": false
     }
    }
   },
   "outputs": [
    {
     "name": "stderr",
     "output_type": "stream",
     "text": [
      "WARNING:root:The version of the SDK does not match the version the model was trained on.\n",
      "WARNING:root:The consistency in the result may not be guaranteed.\n",
      "WARNING:root:Package:azureml-automl-core, training version:1.52.0.post1, current version:1.51.0.post1\n",
      "Package:azureml-automl-runtime, training version:1.52.0.post1, current version:1.51.0.post1\n",
      "Package:azureml-core, training version:1.52.0, current version:1.51.0\n",
      "Package:azureml-dataprep, training version:4.11.4, current version:4.10.8\n",
      "Package:azureml-dataprep-rslex, training version:2.18.4, current version:2.17.12\n",
      "Package:azureml-dataset-runtime, training version:1.52.0, current version:1.51.0\n",
      "Package:azureml-defaults, training version:1.52.0, current version:1.51.0\n",
      "Package:azureml-interpret, training version:1.52.0, current version:1.51.0\n",
      "Package:azureml-mlflow, training version:1.52.0, current version:1.51.0\n",
      "Package:azureml-pipeline-core, training version:1.52.0, current version:1.51.0\n",
      "Package:azureml-responsibleai, training version:1.52.0, current version:1.51.0\n",
      "Package:azureml-telemetry, training version:1.52.0, current version:1.51.0\n",
      "Package:azureml-train-automl-client, training version:1.52.0, current version:1.51.0.post1\n",
      "Package:azureml-train-automl-runtime, training version:1.52.0, current version:1.51.0.post2\n",
      "Package:azureml-train-core, training version:1.52.0, current version:1.51.0\n",
      "Package:azureml-train-restclients-hyperdrive, training version:1.52.0, current version:1.51.0\n",
      "Package:azureml-training-tabular, training version:1.52.0, current version:1.51.0.post1\n",
      "WARNING:root:Please ensure the version of your local conda dependencies match the version on which your model was trained in order to properly retrieve your model.\n"
     ]
    },
    {
     "data": {
      "text/plain": [
       "PipelineWithYTransformations(Pipeline={'memory': None,\n",
       "                                       'steps': [('datatransformer',\n",
       "                                                  DataTransformer(enable_dnn=False, enable_feature_sweeping=True, feature_sweeping_config={}, feature_sweeping_timeout=86400, featurization_config=None, force_text_dnn=False, is_cross_validation=True, is_onnx_compatible=False, observer=None, task='classification', working_dir='/mn...\n",
       "                                                 ('LogisticRegression',\n",
       "                                                  LogisticRegression(C=1048.1131341546852,\n",
       "                                                                     class_weight='balanced',\n",
       "                                                                     dual=False,\n",
       "                                                                     fit_intercept=True,\n",
       "                                                                     intercept_scaling=1,\n",
       "                                                                     l1_ratio=None,\n",
       "                                                                     max_iter=100,\n",
       "                                                                     multi_class='multinomial',\n",
       "                                                                     n_jobs=1,\n",
       "                                                                     penalty='l2',\n",
       "                                                                     random_state=None,\n",
       "                                                                     solver='lbfgs',\n",
       "                                                                     tol=0.0001,\n",
       "                                                                     verbose=0,\n",
       "                                                                     warm_start=False))],\n",
       "                                       'verbose': False},\n",
       "                             y_transformer={},\n",
       "                             y_transformer_name='LabelEncoder')"
      ]
     },
     "execution_count": 11,
     "metadata": {},
     "output_type": "execute_result"
    }
   ],
   "source": [
    "best_run, fitted_model = remote_run.get_output()\n",
    "fitted_model"
   ]
  },
  {
   "cell_type": "markdown",
   "metadata": {},
   "source": [
    "## Your submitted Jupyter notebook contains details of the best model and documents the parameters of that model.\n",
    "\n",
    "The best model has 98% Accuracy. This is a kind of ensemple algorithm. It include 2 algorithm: RobustScaler (For Data transformation) and LogisticRegression(For prediction) with many other hyperparameters. //Todo Screen short the best model here"
   ]
  },
  {
   "cell_type": "code",
   "execution_count": 12,
   "metadata": {},
   "outputs": [
    {
     "data": {
      "text/html": [
       "<table style=\"width:100%\"><tr><th>Experiment</th><th>Id</th><th>Type</th><th>Status</th><th>Details Page</th><th>Docs Page</th></tr><tr><td>final-experiment</td><td>AutoML_9366a451-deed-4246-8e0e-47eb76edbb39_6</td><td></td><td>Completed</td><td><a href=\"https://ml.azure.com/runs/AutoML_9366a451-deed-4246-8e0e-47eb76edbb39_6?wsid=/subscriptions/cdbe0b43-92a0-4715-838a-f2648cc7ad21/resourcegroups/aml-quickstarts-247476/workspaces/quick-starts-ws-247476&amp;tid=660b3398-b80e-49d2-bc5b-ac1dc93b5254\" target=\"_blank\" rel=\"noopener\">Link to Azure Machine Learning studio</a></td><td><a href=\"https://docs.microsoft.com/en-us/python/api/azureml-core/azureml.core.run.Run?view=azure-ml-py\" target=\"_blank\" rel=\"noopener\">Link to Documentation</a></td></tr></table>"
      ],
      "text/plain": [
       "Run(Experiment: final-experiment,\n",
       "Id: AutoML_9366a451-deed-4246-8e0e-47eb76edbb39_6,\n",
       "Type: None,\n",
       "Status: Completed)"
      ]
     },
     "execution_count": 12,
     "metadata": {},
     "output_type": "execute_result"
    }
   ],
   "source": [
    "best_run"
   ]
  },
  {
   "cell_type": "markdown",
   "metadata": {},
   "source": [
    "## Model Deployment\n",
    "\n",
    "Remember you have to deploy only one of the two models you trained but you still need to register both the models. Perform the steps in the rest of this notebook only if you wish to deploy this model.\n",
    "\n",
    "TODO: In the cell below, register the model, create an inference config and deploy the model as a web service."
   ]
  },
  {
   "cell_type": "markdown",
   "metadata": {},
   "source": [
    "### Prepare scoring function and MLClient\n",
    "==> I'm using the V2 of the SDK for this task"
   ]
  },
  {
   "cell_type": "code",
   "execution_count": 15,
   "metadata": {},
   "outputs": [],
   "source": [
    "#Get all code to deploy to the `DEPLOY_DIR`\n",
    "DEPLOY_DIR = \"./deploy/outputs\"\n",
    "os.makedirs(DEPLOY_DIR, exist_ok=True)\n",
    "best_run.download_files(output_directory=DEPLOY_DIR) #this code help to download files of the best model"
   ]
  },
  {
   "cell_type": "code",
   "execution_count": 16,
   "metadata": {},
   "outputs": [
    {
     "name": "stderr",
     "output_type": "stream",
     "text": [
      "Found the config file in: ./config.json\n"
     ]
    }
   ],
   "source": [
    "#Create MLClient object, this object is like a Workspace handler\n",
    "from azure.ai.ml import MLClient\n",
    "from azure.identity import DefaultAzureCredential\n",
    "\n",
    "ML_CLIENT = MLClient.from_config(DefaultAzureCredential())"
   ]
  },
  {
   "cell_type": "markdown",
   "metadata": {},
   "source": [
    "## Best model registered here in the code below\n",
    "//TODO Put register model image here"
   ]
  },
  {
   "cell_type": "code",
   "execution_count": 18,
   "metadata": {},
   "outputs": [],
   "source": [
    "# Register the model\n",
    "from azure.ai.ml.constants import AssetTypes\n",
    "model_path = os.path.join(DEPLOY_DIR, \"model.pkl\")\n",
    "model = Model(\n",
    "    name=\"thaihocmodel\",\n",
    "    path=model_path,\n",
    "    type=AssetTypes.CUSTOM_MODEL,\n",
    "    description=\"The best model from AutoML\"\n",
    ")\n",
    "model = ML_CLIENT.models.create_or_update(model) #model now is registered with the workspace"
   ]
  },
  {
   "cell_type": "markdown",
   "metadata": {},
   "source": [
    "### Config an endpoint"
   ]
  },
  {
   "cell_type": "code",
   "execution_count": 19,
   "metadata": {},
   "outputs": [],
   "source": [
    "from azure.ai.ml.entities import ManagedOnlineEndpoint\n",
    "import datetime\n",
    "endpoint_name = f\"automl-{datetime.datetime.now().strftime('%m%d%H%M%f')}\"\n",
    "ENDPOINT = ManagedOnlineEndpoint(\n",
    "    name=endpoint_name\n",
    ")"
   ]
  },
  {
   "cell_type": "markdown",
   "metadata": {},
   "source": [
    "### Attach the endpoint and model to workspace\n",
    "    * Register the endpoint\n",
    "    * Register the model"
   ]
  },
  {
   "cell_type": "code",
   "execution_count": 20,
   "metadata": {},
   "outputs": [
    {
     "data": {
      "text/plain": [
       "<azure.core.polling._poller.LROPoller at 0x7f55d8dd4760>"
      ]
     },
     "execution_count": 20,
     "metadata": {},
     "output_type": "execute_result"
    }
   ],
   "source": [
    "# Register the end point\n",
    "ML_CLIENT.begin_create_or_update(ENDPOINT)"
   ]
  },
  {
   "cell_type": "markdown",
   "metadata": {},
   "source": [
    "### Create the Deployment object"
   ]
  },
  {
   "cell_type": "code",
   "execution_count": 72,
   "metadata": {},
   "outputs": [
    {
     "name": "stderr",
     "output_type": "stream",
     "text": [
      "Check: endpoint automl-12311413290717 exists\n",
      "\u001b[32mUploading outputs (0.49 MBs): 100%|██████████| 488285/488285 [00:00<00:00, 1325166.54it/s]\n",
      "\u001b[39m\n",
      "\n"
     ]
    },
    {
     "data": {
      "text/plain": [
       "<azure.core.polling._poller.LROPoller at 0x7f55d2b1ca00>"
      ]
     },
     "execution_count": 22,
     "metadata": {},
     "output_type": "execute_result"
    },
    {
     "name": "stdout",
     "output_type": "stream",
     "text": [
      "..."
     ]
    }
   ],
   "source": [
    "from azure.ai.ml.entities import ManagedOnlineDeployment, CodeConfiguration\n",
    "deployment_name = \"auto-deploy-15\"\n",
    "\n",
    "environment = Environment(image=\"mcr.microsoft.com/azureml/curated/responsibleai-ubuntu20.04-py38-cpu:38\")\n",
    "env = Environment(\n",
    "    conda_file=os.path.join(DEPLOY_DIR, \"conda_env_v_1_0_0.yml\"),\n",
    "    image=\"mcr.microsoft.com/azureml/openmpi3.1.2-ubuntu18.04:latest\",\n",
    ")\n",
    "DEPLOYMENT = ManagedOnlineDeployment(\n",
    "    name=deployment_name,\n",
    "    environment = env,\n",
    "    endpoint_name=endpoint_name,\n",
    "    model=model,\n",
    "    code_configuration=CodeConfiguration(\n",
    "        code=DEPLOY_DIR, \n",
    "        scoring_script=\"scoring_file_v_2_0_0.py\"\n",
    "    ),\n",
    "    instance_count=1,\n",
    "    instance_type=\"Standard_DS3_v2\"\n",
    ")\n",
    "\n",
    "ML_CLIENT.begin_create_or_update(DEPLOYMENT)"
   ]
  },
  {
   "cell_type": "code",
   "execution_count": 73,
   "metadata": {},
   "outputs": [
    {
     "name": "stdout",
     "output_type": "stream",
     "text": [
      "..........................................Deploy endpoint automl-12311240168597 failed\n",
      "."
     ]
    }
   ],
   "source": [
    "import time\n",
    "while ML_CLIENT.online_deployments.get(name=deployment_name, endpoint_name=endpoint_name).provisioning_state == \"Updating\":\n",
    "    time.sleep(1)\n",
    "\n",
    "if (ML_CLIENT.online_deployments.get(name=deployment_name, endpoint_name=endpoint_name).provisioning_state == \"Success\"):\n",
    "    print(f\"Deploy endpoint {endpoint_name} success\")\n",
    "else:\n",
    "    print(f\"Deploy endpoint {endpoint_name} failed\")"
   ]
  },
  {
   "cell_type": "markdown",
   "metadata": {
    "gather": {
     "logged": 1598431657736
    },
    "jupyter": {
     "outputs_hidden": false,
     "source_hidden": false
    },
    "nteract": {
     "transient": {
      "deleting": false
     }
    }
   },
   "source": [
    "TODO: In the cell below, send a request to the web service you deployed to test it."
   ]
  },
  {
   "cell_type": "code",
   "execution_count": null,
   "metadata": {
    "collapsed": false,
    "gather": {
     "logged": 1703928830391
    },
    "jupyter": {
     "outputs_hidden": false
    },
    "nteract": {
     "transient": {
      "deleting": false
     }
    }
   },
   "outputs": [
    {
     "name": "stdout",
     "output_type": "stream",
     "text": [
      "b'{\"Results\": [\"Iris-setosa\"]}'\n",
      "........."
     ]
    }
   ],
   "source": [
    "\n",
    "\n",
    "\n",
    "def allowSelfSignedHttps(allowed):\n",
    "    # bypass the server certificate verification on client side\n",
    "    if allowed and not os.environ.get('PYTHONHTTPSVERIFY', '') and getattr(ssl, '_create_unverified_context', None):\n",
    "        ssl._create_default_https_context = ssl._create_unverified_context\n",
    "\n",
    "allowSelfSignedHttps(True) # this line is needed if you use self-signed certificate in your scoring service.\n",
    "\n",
    "# Request data goes here\n",
    "# The example below assumes JSON formatting which may be updated\n",
    "# depending on the format your endpoint expects.\n",
    "# More information can be found here:\n",
    "# https://docs.microsoft.com/azure/machine-learning/how-to-deploy-advanced-entry-script\n",
    "data =  {\n",
    "  \"Inputs\": {\n",
    "    \"data\": [\n",
    "      {\n",
    "        \"SepalLengthCm\": 5.1,\n",
    "        \"SepalWidthCm\": 3.5,\n",
    "        \"PetalLengthCm\": 1.4,\n",
    "        \"PetalWidthCm\": .2\n",
    "      }\n",
    "    ]\n",
    "  }\n",
    "}\n",
    "\n",
    "body = str.encode(json.dumps(data))\n",
    "\n",
    "url = endpoint.scoring_uri\n",
    "api_key = ML_CLIENT.online_endpoints.get_keys(endpoint_name)\n",
    "\n",
    "headers = {'Content-Type':'application/json', 'Authorization':('Bearer '+ api_key.primary_key), 'azureml-model-deployment': 'auto-deploy-15' }\n",
    "req = urllib.request.Request(url, body, headers)\n",
    "\n",
    "try:\n",
    "    response = urllib.request.urlopen(req)\n",
    "\n",
    "    result = response.read()\n",
    "    print(result)\n",
    "except urllib.error.HTTPError as error:\n",
    "    print(\"The request failed with status code: \" + str(error.code))\n",
    "\n",
    "    # Print the headers - they include the requert ID and the timestamp, which are useful for debugging the failure\n",
    "    print(error.info())\n",
    "    print(error.read().decode(\"utf8\", 'ignore'))"
   ]
  },
  {
   "cell_type": "markdown",
   "metadata": {
    "gather": {
     "logged": 1598432765711
    },
    "jupyter": {
     "outputs_hidden": false,
     "source_hidden": false
    },
    "nteract": {
     "transient": {
      "deleting": false
     }
    }
   },
   "source": [
    "TODO: In the cell below, print the logs of the web service and delete the service"
   ]
  },
  {
   "cell_type": "code",
   "execution_count": null,
   "metadata": {
    "collapsed": false,
    "gather": {
     "logged": 1703928887140
    },
    "jupyter": {
     "outputs_hidden": false
    },
    "nteract": {
     "transient": {
      "deleting": false
     }
    }
   },
   "outputs": [],
   "source": [
    "#Get log\n",
    "ML_CLIENT.online_deployments.get_logs(name=\"AutoMlDeployment\", endpoint_name=endpoint_name, lines=1000)"
   ]
  },
  {
   "cell_type": "code",
   "execution_count": null,
   "metadata": {},
   "outputs": [],
   "source": [
    "#delete the service\n",
    "ML_CLIENT.online_endpoints.begin_delete(name=endpoint_name)"
   ]
  },
  {
   "cell_type": "markdown",
   "metadata": {},
   "source": [
    "**Submission Checklist**\n",
    "- I have registered the model.\n",
    "- I have deployed the model with the best accuracy as a webservice.\n",
    "- I have tested the webservice by sending a request to the model endpoint.\n",
    "- I have deleted the webservice and shutdown all the computes that I have used.\n",
    "- I have taken a screenshot showing the model endpoint as active.\n",
    "- The project includes a file containing the environment details.\n"
   ]
  },
  {
   "cell_type": "markdown",
   "metadata": {},
   "source": []
  }
 ],
 "metadata": {
  "kernel_info": {
   "name": "python38-azureml"
  },
  "kernelspec": {
   "display_name": "Python 3.8 - AzureML",
   "language": "python",
   "name": "python38-azureml"
  },
  "language_info": {
   "codemirror_mode": {
    "name": "ipython",
    "version": 3
   },
   "file_extension": ".py",
   "mimetype": "text/x-python",
   "name": "python",
   "nbconvert_exporter": "python",
   "pygments_lexer": "ipython3",
   "version": "3.8.5"
  },
  "microsoft": {
   "host": {
    "AzureML": {
     "notebookHasBeenCompleted": true
    }
   },
   "ms_spell_check": {
    "ms_spell_check_language": "en"
   }
  },
  "nteract": {
   "version": "nteract-front-end@1.0.0"
  }
 },
 "nbformat": 4,
 "nbformat_minor": 4
}
